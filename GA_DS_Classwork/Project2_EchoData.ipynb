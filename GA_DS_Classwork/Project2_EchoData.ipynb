{
 "metadata": {
  "name": ""
 },
 "nbformat": 3,
 "nbformat_minor": 0,
 "worksheets": [
  {
   "cells": [
    {
     "cell_type": "raw",
     "metadata": {},
     "source": [
      "survival -- the number of months patient survived (has survived,\n",
      "\t\t  if patient is still alive).  Because all the patients\n",
      "\t\t  had their heart attacks at different times, it is \n",
      "\t\t  possible that some patients have survived less than\n",
      "\t\t  one year but they are still alive.  Check the second\n",
      "\t\t  variable to confirm this.  Such patients cannot be \n",
      "\t\t  used for the prediction task mentioned above.\n",
      "   2. still-alive -- a binary variable.  0=dead at end of survival period,\n",
      "\t\t     1 means still alive \n",
      "   3. age-at-heart-attack -- age in years when heart attack occurred\n",
      "   4. pericardial-effusion -- binary. Pericardial effusion is fluid\n",
      "\t\t\t      around the heart.  0=no fluid, 1=fluid\n",
      "   5. fractional-shortening -- a measure of contracility around the heart\n",
      "\t\t\t       lower numbers are increasingly abnormal\n",
      "   6. epss -- E-point septal separation, another measure of contractility.  \n",
      "\t      Larger numbers are increasingly abnormal.\n",
      "   7. lvdd -- left ventricular end-diastolic dimension.  This is\n",
      "\t      a measure of the size of the heart at end-diastole.\n",
      "\t      Large hearts tend to be sick hearts.\n",
      "   8. wall-motion-score -- a measure of how the segments of the left\n",
      "\t\t\t   ventricle are moving\n",
      "   9. wall-motion-index -- equals wall-motion-score divided by number of\n",
      "\t\t\t   segments seen.  Usually 12-13 segments are seen\n",
      "\t\t\t   in an echocardiogram.  Use this variable INSTEAD\n",
      "\t\t\t   of the wall motion score.\n",
      "   10. mult -- a derivate var which can be ignored"
     ]
    },
    {
     "cell_type": "code",
     "collapsed": false,
     "input": [
      "%pylab inline\n",
      "import numpy as np\n",
      "import pandas as pd\n",
      "import pylab as pl\n",
      "\n",
      "\n",
      "import csv as csv\n",
      "from matplotlib import pyplot as plt\n",
      "from sklearn import datasets\n",
      "from pandas import DataFrame\n",
      "\n"
     ],
     "language": "python",
     "metadata": {},
     "outputs": [
      {
       "output_type": "stream",
       "stream": "stdout",
       "text": [
        "Populating the interactive namespace from numpy and matplotlib\n"
       ]
      }
     ],
     "prompt_number": 285
    },
    {
     "cell_type": "code",
     "collapsed": false,
     "input": [
      "echofile = pd.read_csv('echocardiogramdata.csv', index_col='RefId')\n",
      "\n",
      "print echofile.head(3)\n",
      "\n",
      "echofile2 = echofile.drop(['mult'], inplace=True, axis=1)"
     ],
     "language": "python",
     "metadata": {},
     "outputs": [
      {
       "output_type": "stream",
       "stream": "stdout",
       "text": [
        "       survivedmos  alive  HAage  PEffusion  fractional_shortening  epss  \\\n",
        "RefId                                                                      \n",
        "1               11      0     71          0                   0.26     9   \n",
        "2               19      0     72          0                   0.38     6   \n",
        "3               16      0     55          0                   0.26     4   \n",
        "\n",
        "       lvdd  wms  wmi   mult  \n",
        "RefId                         \n",
        "1      4.60   14  1.0  1.000  \n",
        "2      4.10   14  1.7  0.588  \n",
        "3      3.42   14  1.0  1.000  \n",
        "\n",
        "[3 rows x 10 columns]\n"
       ]
      }
     ],
     "prompt_number": 268
    },
    {
     "cell_type": "code",
     "collapsed": false,
     "input": [
      "echofile.head(3)"
     ],
     "language": "python",
     "metadata": {},
     "outputs": [
      {
       "html": [
        "<div style=\"max-height:1000px;max-width:1500px;overflow:auto;\">\n",
        "<table border=\"1\" class=\"dataframe\">\n",
        "  <thead>\n",
        "    <tr style=\"text-align: right;\">\n",
        "      <th></th>\n",
        "      <th>survivedmos</th>\n",
        "      <th>alive</th>\n",
        "      <th>HAage</th>\n",
        "      <th>PEffusion</th>\n",
        "      <th>fractional_shortening</th>\n",
        "      <th>epss</th>\n",
        "      <th>lvdd</th>\n",
        "      <th>wms</th>\n",
        "      <th>wmi</th>\n",
        "    </tr>\n",
        "    <tr>\n",
        "      <th>RefId</th>\n",
        "      <th></th>\n",
        "      <th></th>\n",
        "      <th></th>\n",
        "      <th></th>\n",
        "      <th></th>\n",
        "      <th></th>\n",
        "      <th></th>\n",
        "      <th></th>\n",
        "      <th></th>\n",
        "    </tr>\n",
        "  </thead>\n",
        "  <tbody>\n",
        "    <tr>\n",
        "      <th>1</th>\n",
        "      <td> 11</td>\n",
        "      <td> 0</td>\n",
        "      <td> 71</td>\n",
        "      <td> 0</td>\n",
        "      <td> 0.26</td>\n",
        "      <td> 9</td>\n",
        "      <td> 4.60</td>\n",
        "      <td> 14</td>\n",
        "      <td> 1.0</td>\n",
        "    </tr>\n",
        "    <tr>\n",
        "      <th>2</th>\n",
        "      <td> 19</td>\n",
        "      <td> 0</td>\n",
        "      <td> 72</td>\n",
        "      <td> 0</td>\n",
        "      <td> 0.38</td>\n",
        "      <td> 6</td>\n",
        "      <td> 4.10</td>\n",
        "      <td> 14</td>\n",
        "      <td> 1.7</td>\n",
        "    </tr>\n",
        "    <tr>\n",
        "      <th>3</th>\n",
        "      <td> 16</td>\n",
        "      <td> 0</td>\n",
        "      <td> 55</td>\n",
        "      <td> 0</td>\n",
        "      <td> 0.26</td>\n",
        "      <td> 4</td>\n",
        "      <td> 3.42</td>\n",
        "      <td> 14</td>\n",
        "      <td> 1.0</td>\n",
        "    </tr>\n",
        "  </tbody>\n",
        "</table>\n",
        "<p>3 rows \u00d7 9 columns</p>\n",
        "</div>"
       ],
       "metadata": {},
       "output_type": "pyout",
       "prompt_number": 375,
       "text": [
        "       survivedmos  alive  HAage  PEffusion  fractional_shortening  epss  \\\n",
        "RefId                                                                      \n",
        "1               11      0     71          0                   0.26     9   \n",
        "2               19      0     72          0                   0.38     6   \n",
        "3               16      0     55          0                   0.26     4   \n",
        "\n",
        "       lvdd  wms  wmi  \n",
        "RefId                  \n",
        "1      4.60   14  1.0  \n",
        "2      4.10   14  1.7  \n",
        "3      3.42   14  1.0  \n",
        "\n",
        "[3 rows x 9 columns]"
       ]
      }
     ],
     "prompt_number": 375
    },
    {
     "cell_type": "code",
     "collapsed": false,
     "input": [
      "#in order to do math with any column, convert them to floats. Lets try it on column 2= column of their class. \n",
      "echofile.info()\n",
      "echofile.describe()"
     ],
     "language": "python",
     "metadata": {},
     "outputs": [
      {
       "output_type": "stream",
       "stream": "stdout",
       "text": [
        "<class 'pandas.core.frame.DataFrame'>\n",
        "Int64Index: 131 entries, 1 to 131\n",
        "Data columns (total 9 columns):\n",
        "survivedmos              131 non-null float64\n",
        "alive                    131 non-null int64\n",
        "HAage                    126 non-null float64\n",
        "PEffusion                131 non-null int64\n",
        "fractional_shortening    124 non-null float64\n",
        "epss                     117 non-null float64\n",
        "lvdd                     121 non-null float64\n",
        "wms                      128 non-null float64\n",
        "wmi                      130 non-null float64\n",
        "dtypes: float64(7), int64(2)"
       ]
      },
      {
       "output_type": "stream",
       "stream": "stderr",
       "text": [
        "/Users/aribajahan/anaconda/lib/python2.7/site-packages/pandas/compat/scipy.py:68: DeprecationWarning: using a non-integer number instead of an integer will result in an error in the future\n",
        "  score = values[idx]\n",
        "/Users/aribajahan/anaconda/lib/python2.7/site-packages/pandas/compat/scipy.py:68: DeprecationWarning: using a non-integer number instead of an integer will result in an error in the future\n",
        "  score = values[idx]\n",
        "/Users/aribajahan/anaconda/lib/python2.7/site-packages/pandas/compat/scipy.py:68: DeprecationWarning: using a non-integer number instead of an integer will result in an error in the future\n",
        "  score = values[idx]\n",
        "/Users/aribajahan/anaconda/lib/python2.7/site-packages/pandas/compat/scipy.py:68: DeprecationWarning: using a non-integer number instead of an integer will result in an error in the future\n",
        "  score = values[idx]\n"
       ]
      },
      {
       "html": [
        "<div style=\"max-height:1000px;max-width:1500px;overflow:auto;\">\n",
        "<table border=\"1\" class=\"dataframe\">\n",
        "  <thead>\n",
        "    <tr style=\"text-align: right;\">\n",
        "      <th></th>\n",
        "      <th>survivedmos</th>\n",
        "      <th>alive</th>\n",
        "      <th>HAage</th>\n",
        "      <th>PEffusion</th>\n",
        "      <th>fractional_shortening</th>\n",
        "      <th>epss</th>\n",
        "      <th>lvdd</th>\n",
        "      <th>wms</th>\n",
        "      <th>wmi</th>\n",
        "    </tr>\n",
        "  </thead>\n",
        "  <tbody>\n",
        "    <tr>\n",
        "      <th>count</th>\n",
        "      <td> 131.000000</td>\n",
        "      <td> 131.000000</td>\n",
        "      <td> 126.000000</td>\n",
        "      <td> 131.000000</td>\n",
        "      <td> 124.000000</td>\n",
        "      <td> 117.000000</td>\n",
        "      <td> 121.000000</td>\n",
        "      <td> 128.000000</td>\n",
        "      <td> 130.00000</td>\n",
        "    </tr>\n",
        "    <tr>\n",
        "      <th>mean</th>\n",
        "      <td>  22.265496</td>\n",
        "      <td>   0.328244</td>\n",
        "      <td>  62.813722</td>\n",
        "      <td>   0.183206</td>\n",
        "      <td>   0.216734</td>\n",
        "      <td>  12.164769</td>\n",
        "      <td>   4.763157</td>\n",
        "      <td>  14.438125</td>\n",
        "      <td>   1.37800</td>\n",
        "    </tr>\n",
        "    <tr>\n",
        "      <th>std</th>\n",
        "      <td>  15.825402</td>\n",
        "      <td>   0.471377</td>\n",
        "      <td>   8.342110</td>\n",
        "      <td>   0.388320</td>\n",
        "      <td>   0.107513</td>\n",
        "      <td>   7.370159</td>\n",
        "      <td>   0.810013</td>\n",
        "      <td>   5.018566</td>\n",
        "      <td>   0.45185</td>\n",
        "    </tr>\n",
        "    <tr>\n",
        "      <th>min</th>\n",
        "      <td>   0.030000</td>\n",
        "      <td>   0.000000</td>\n",
        "      <td>  35.000000</td>\n",
        "      <td>   0.000000</td>\n",
        "      <td>   0.010000</td>\n",
        "      <td>   0.000000</td>\n",
        "      <td>   2.320000</td>\n",
        "      <td>   2.000000</td>\n",
        "      <td>   1.00000</td>\n",
        "    </tr>\n",
        "    <tr>\n",
        "      <th>25%</th>\n",
        "      <td>   8.250000</td>\n",
        "      <td>   0.000000</td>\n",
        "      <td>  57.000000</td>\n",
        "      <td>   0.000000</td>\n",
        "      <td>   0.150000</td>\n",
        "      <td>   7.000000</td>\n",
        "      <td>   4.230000</td>\n",
        "      <td>  11.000000</td>\n",
        "      <td>   1.00000</td>\n",
        "    </tr>\n",
        "    <tr>\n",
        "      <th>50%</th>\n",
        "      <td>  24.000000</td>\n",
        "      <td>   0.000000</td>\n",
        "      <td>  62.000000</td>\n",
        "      <td>   0.000000</td>\n",
        "      <td>   0.205000</td>\n",
        "      <td>  11.000000</td>\n",
        "      <td>   4.650000</td>\n",
        "      <td>  14.000000</td>\n",
        "      <td>   1.21600</td>\n",
        "    </tr>\n",
        "    <tr>\n",
        "      <th>75%</th>\n",
        "      <td>  33.000000</td>\n",
        "      <td>   1.000000</td>\n",
        "      <td>  67.750000</td>\n",
        "      <td>   0.000000</td>\n",
        "      <td>   0.270000</td>\n",
        "      <td>  16.100000</td>\n",
        "      <td>   5.300000</td>\n",
        "      <td>  16.500000</td>\n",
        "      <td>   1.50750</td>\n",
        "    </tr>\n",
        "    <tr>\n",
        "      <th>max</th>\n",
        "      <td>  57.000000</td>\n",
        "      <td>   1.000000</td>\n",
        "      <td>  86.000000</td>\n",
        "      <td>   1.000000</td>\n",
        "      <td>   0.610000</td>\n",
        "      <td>  40.000000</td>\n",
        "      <td>   6.780000</td>\n",
        "      <td>  39.000000</td>\n",
        "      <td>   3.00000</td>\n",
        "    </tr>\n",
        "  </tbody>\n",
        "</table>\n",
        "<p>8 rows \u00d7 9 columns</p>\n",
        "</div>"
       ],
       "metadata": {},
       "output_type": "pyout",
       "prompt_number": 269,
       "text": [
        "       survivedmos       alive       HAage   PEffusion  fractional_shortening  \\\n",
        "count   131.000000  131.000000  126.000000  131.000000             124.000000   \n",
        "mean     22.265496    0.328244   62.813722    0.183206               0.216734   \n",
        "std      15.825402    0.471377    8.342110    0.388320               0.107513   \n",
        "min       0.030000    0.000000   35.000000    0.000000               0.010000   \n",
        "25%       8.250000    0.000000   57.000000    0.000000               0.150000   \n",
        "50%      24.000000    0.000000   62.000000    0.000000               0.205000   \n",
        "75%      33.000000    1.000000   67.750000    0.000000               0.270000   \n",
        "max      57.000000    1.000000   86.000000    1.000000               0.610000   \n",
        "\n",
        "             epss        lvdd         wms        wmi  \n",
        "count  117.000000  121.000000  128.000000  130.00000  \n",
        "mean    12.164769    4.763157   14.438125    1.37800  \n",
        "std      7.370159    0.810013    5.018566    0.45185  \n",
        "min      0.000000    2.320000    2.000000    1.00000  \n",
        "25%      7.000000    4.230000   11.000000    1.00000  \n",
        "50%     11.000000    4.650000   14.000000    1.21600  \n",
        "75%     16.100000    5.300000   16.500000    1.50750  \n",
        "max     40.000000    6.780000   39.000000    3.00000  \n",
        "\n",
        "[8 rows x 9 columns]"
       ]
      }
     ],
     "prompt_number": 269
    },
    {
     "cell_type": "code",
     "collapsed": false,
     "input": [
      "pd.isnull(echofile['HAage'])"
     ],
     "language": "python",
     "metadata": {},
     "outputs": [
      {
       "metadata": {},
       "output_type": "pyout",
       "prompt_number": 271,
       "text": [
        "RefId\n",
        "1        False\n",
        "2        False\n",
        "3        False\n",
        "4        False\n",
        "5        False\n",
        "6        False\n",
        "7        False\n",
        "8        False\n",
        "9        False\n",
        "10       False\n",
        "11       False\n",
        "12       False\n",
        "13       False\n",
        "14       False\n",
        "15       False\n",
        "...\n",
        "117      False\n",
        "118      False\n",
        "119       True\n",
        "120      False\n",
        "121      False\n",
        "122      False\n",
        "123      False\n",
        "124      False\n",
        "125       True\n",
        "126      False\n",
        "127      False\n",
        "128      False\n",
        "129      False\n",
        "130      False\n",
        "131      False\n",
        "Name: HAage, Length: 131, dtype: bool"
       ]
      }
     ],
     "prompt_number": 271
    },
    {
     "cell_type": "code",
     "collapsed": false,
     "input": [
      "echofile3 = echofile.fillna(method='pad')"
     ],
     "language": "python",
     "metadata": {},
     "outputs": [],
     "prompt_number": 274
    },
    {
     "cell_type": "code",
     "collapsed": false,
     "input": [
      "echofile3.head(3)"
     ],
     "language": "python",
     "metadata": {},
     "outputs": [
      {
       "html": [
        "<div style=\"max-height:1000px;max-width:1500px;overflow:auto;\">\n",
        "<table border=\"1\" class=\"dataframe\">\n",
        "  <thead>\n",
        "    <tr style=\"text-align: right;\">\n",
        "      <th></th>\n",
        "      <th>survivedmos</th>\n",
        "      <th>alive</th>\n",
        "      <th>HAage</th>\n",
        "      <th>PEffusion</th>\n",
        "      <th>fractional_shortening</th>\n",
        "      <th>epss</th>\n",
        "      <th>lvdd</th>\n",
        "      <th>wms</th>\n",
        "      <th>wmi</th>\n",
        "    </tr>\n",
        "    <tr>\n",
        "      <th>RefId</th>\n",
        "      <th></th>\n",
        "      <th></th>\n",
        "      <th></th>\n",
        "      <th></th>\n",
        "      <th></th>\n",
        "      <th></th>\n",
        "      <th></th>\n",
        "      <th></th>\n",
        "      <th></th>\n",
        "    </tr>\n",
        "  </thead>\n",
        "  <tbody>\n",
        "    <tr>\n",
        "      <th>1</th>\n",
        "      <td> 11</td>\n",
        "      <td> 0</td>\n",
        "      <td> 71</td>\n",
        "      <td> 0</td>\n",
        "      <td> 0.26</td>\n",
        "      <td> 9</td>\n",
        "      <td> 4.60</td>\n",
        "      <td> 14</td>\n",
        "      <td> 1.0</td>\n",
        "    </tr>\n",
        "    <tr>\n",
        "      <th>2</th>\n",
        "      <td> 19</td>\n",
        "      <td> 0</td>\n",
        "      <td> 72</td>\n",
        "      <td> 0</td>\n",
        "      <td> 0.38</td>\n",
        "      <td> 6</td>\n",
        "      <td> 4.10</td>\n",
        "      <td> 14</td>\n",
        "      <td> 1.7</td>\n",
        "    </tr>\n",
        "    <tr>\n",
        "      <th>3</th>\n",
        "      <td> 16</td>\n",
        "      <td> 0</td>\n",
        "      <td> 55</td>\n",
        "      <td> 0</td>\n",
        "      <td> 0.26</td>\n",
        "      <td> 4</td>\n",
        "      <td> 3.42</td>\n",
        "      <td> 14</td>\n",
        "      <td> 1.0</td>\n",
        "    </tr>\n",
        "  </tbody>\n",
        "</table>\n",
        "<p>3 rows \u00d7 9 columns</p>\n",
        "</div>"
       ],
       "metadata": {},
       "output_type": "pyout",
       "prompt_number": 377,
       "text": [
        "       survivedmos  alive  HAage  PEffusion  fractional_shortening  epss  \\\n",
        "RefId                                                                      \n",
        "1               11      0     71          0                   0.26     9   \n",
        "2               19      0     72          0                   0.38     6   \n",
        "3               16      0     55          0                   0.26     4   \n",
        "\n",
        "       lvdd  wms  wmi  \n",
        "RefId                  \n",
        "1      4.60   14  1.0  \n",
        "2      4.10   14  1.7  \n",
        "3      3.42   14  1.0  \n",
        "\n",
        "[3 rows x 9 columns]"
       ]
      }
     ],
     "prompt_number": 377
    },
    {
     "cell_type": "code",
     "collapsed": false,
     "input": [
      "echofile3.describe()"
     ],
     "language": "python",
     "metadata": {},
     "outputs": [
      {
       "html": [
        "<div style=\"max-height:1000px;max-width:1500px;overflow:auto;\">\n",
        "<table border=\"1\" class=\"dataframe\">\n",
        "  <thead>\n",
        "    <tr style=\"text-align: right;\">\n",
        "      <th></th>\n",
        "      <th>survivedmos</th>\n",
        "      <th>alive</th>\n",
        "      <th>HAage</th>\n",
        "      <th>PEffusion</th>\n",
        "      <th>fractional_shortening</th>\n",
        "      <th>epss</th>\n",
        "      <th>lvdd</th>\n",
        "      <th>wms</th>\n",
        "      <th>wmi</th>\n",
        "    </tr>\n",
        "  </thead>\n",
        "  <tbody>\n",
        "    <tr>\n",
        "      <th>count</th>\n",
        "      <td> 131.000000</td>\n",
        "      <td> 131.000000</td>\n",
        "      <td> 131.000000</td>\n",
        "      <td> 131.000000</td>\n",
        "      <td> 131.000000</td>\n",
        "      <td> 131.000000</td>\n",
        "      <td> 131.000000</td>\n",
        "      <td> 131.000000</td>\n",
        "      <td> 131.000000</td>\n",
        "    </tr>\n",
        "    <tr>\n",
        "      <th>mean</th>\n",
        "      <td>  22.265496</td>\n",
        "      <td>   0.328244</td>\n",
        "      <td>  62.645260</td>\n",
        "      <td>   0.183206</td>\n",
        "      <td>   0.219351</td>\n",
        "      <td>  12.454031</td>\n",
        "      <td>   4.748565</td>\n",
        "      <td>  14.412824</td>\n",
        "      <td>   1.385038</td>\n",
        "    </tr>\n",
        "    <tr>\n",
        "      <th>std</th>\n",
        "      <td>  15.825402</td>\n",
        "      <td>   0.471377</td>\n",
        "      <td>   8.348071</td>\n",
        "      <td>   0.388320</td>\n",
        "      <td>   0.113944</td>\n",
        "      <td>   7.451187</td>\n",
        "      <td>   0.816029</td>\n",
        "      <td>   5.134250</td>\n",
        "      <td>   0.457260</td>\n",
        "    </tr>\n",
        "    <tr>\n",
        "      <th>min</th>\n",
        "      <td>   0.030000</td>\n",
        "      <td>   0.000000</td>\n",
        "      <td>  35.000000</td>\n",
        "      <td>   0.000000</td>\n",
        "      <td>   0.010000</td>\n",
        "      <td>   0.000000</td>\n",
        "      <td>   2.320000</td>\n",
        "      <td>   2.000000</td>\n",
        "      <td>   1.000000</td>\n",
        "    </tr>\n",
        "    <tr>\n",
        "      <th>25%</th>\n",
        "      <td>   8.250000</td>\n",
        "      <td>   0.000000</td>\n",
        "      <td>  57.000000</td>\n",
        "      <td>   0.000000</td>\n",
        "      <td>   0.150000</td>\n",
        "      <td>   7.050000</td>\n",
        "      <td>   4.170000</td>\n",
        "      <td>  11.000000</td>\n",
        "      <td>   1.000000</td>\n",
        "    </tr>\n",
        "    <tr>\n",
        "      <th>50%</th>\n",
        "      <td>  24.000000</td>\n",
        "      <td>   0.000000</td>\n",
        "      <td>  62.000000</td>\n",
        "      <td>   0.000000</td>\n",
        "      <td>   0.210000</td>\n",
        "      <td>  11.000000</td>\n",
        "      <td>   4.650000</td>\n",
        "      <td>  14.000000</td>\n",
        "      <td>   1.222000</td>\n",
        "    </tr>\n",
        "    <tr>\n",
        "      <th>75%</th>\n",
        "      <td>  33.000000</td>\n",
        "      <td>   1.000000</td>\n",
        "      <td>  67.500000</td>\n",
        "      <td>   0.000000</td>\n",
        "      <td>   0.276000</td>\n",
        "      <td>  16.250000</td>\n",
        "      <td>   5.305000</td>\n",
        "      <td>  16.500000</td>\n",
        "      <td>   1.535000</td>\n",
        "    </tr>\n",
        "    <tr>\n",
        "      <th>max</th>\n",
        "      <td>  57.000000</td>\n",
        "      <td>   1.000000</td>\n",
        "      <td>  86.000000</td>\n",
        "      <td>   1.000000</td>\n",
        "      <td>   0.610000</td>\n",
        "      <td>  40.000000</td>\n",
        "      <td>   6.780000</td>\n",
        "      <td>  39.000000</td>\n",
        "      <td>   3.000000</td>\n",
        "    </tr>\n",
        "  </tbody>\n",
        "</table>\n",
        "<p>8 rows \u00d7 9 columns</p>\n",
        "</div>"
       ],
       "metadata": {},
       "output_type": "pyout",
       "prompt_number": 378,
       "text": [
        "       survivedmos       alive       HAage   PEffusion  fractional_shortening  \\\n",
        "count   131.000000  131.000000  131.000000  131.000000             131.000000   \n",
        "mean     22.265496    0.328244   62.645260    0.183206               0.219351   \n",
        "std      15.825402    0.471377    8.348071    0.388320               0.113944   \n",
        "min       0.030000    0.000000   35.000000    0.000000               0.010000   \n",
        "25%       8.250000    0.000000   57.000000    0.000000               0.150000   \n",
        "50%      24.000000    0.000000   62.000000    0.000000               0.210000   \n",
        "75%      33.000000    1.000000   67.500000    0.000000               0.276000   \n",
        "max      57.000000    1.000000   86.000000    1.000000               0.610000   \n",
        "\n",
        "             epss        lvdd         wms         wmi  \n",
        "count  131.000000  131.000000  131.000000  131.000000  \n",
        "mean    12.454031    4.748565   14.412824    1.385038  \n",
        "std      7.451187    0.816029    5.134250    0.457260  \n",
        "min      0.000000    2.320000    2.000000    1.000000  \n",
        "25%      7.050000    4.170000   11.000000    1.000000  \n",
        "50%     11.000000    4.650000   14.000000    1.222000  \n",
        "75%     16.250000    5.305000   16.500000    1.535000  \n",
        "max     40.000000    6.780000   39.000000    3.000000  \n",
        "\n",
        "[8 rows x 9 columns]"
       ]
      }
     ],
     "prompt_number": 378
    },
    {
     "cell_type": "code",
     "collapsed": false,
     "input": [
      "echofile3.info()"
     ],
     "language": "python",
     "metadata": {},
     "outputs": [
      {
       "output_type": "stream",
       "stream": "stdout",
       "text": [
        "<class 'pandas.core.frame.DataFrame'>\n",
        "Int64Index: 131 entries, 1 to 131\n",
        "Data columns (total 9 columns):\n",
        "survivedmos              131 non-null float64\n",
        "alive                    131 non-null int64\n",
        "HAage                    131 non-null float64\n",
        "PEffusion                131 non-null int64\n",
        "fractional_shortening    131 non-null float64\n",
        "epss                     131 non-null float64\n",
        "lvdd                     131 non-null float64\n",
        "wms                      131 non-null float64\n",
        "wmi                      131 non-null float64\n",
        "dtypes: float64(7), int64(2)"
       ]
      }
     ],
     "prompt_number": 277
    },
    {
     "cell_type": "code",
     "collapsed": false,
     "input": [
      "echofile3 = np.round(echofile3, 3)\n",
      "\n",
      "#to get rid of the long decimals"
     ],
     "language": "python",
     "metadata": {},
     "outputs": [],
     "prompt_number": 283
    },
    {
     "cell_type": "code",
     "collapsed": false,
     "input": [
      "#now the dataframe is something we can work with\n",
      "#Alive -1 is someone who is alive now vs 0 is dead "
     ],
     "language": "python",
     "metadata": {},
     "outputs": []
    },
    {
     "cell_type": "code",
     "collapsed": false,
     "input": [
      "print echofile3.describe().columns"
     ],
     "language": "python",
     "metadata": {},
     "outputs": [
      {
       "output_type": "stream",
       "stream": "stdout",
       "text": [
        "Index([u'survivedmos', u'alive', u'HAage', u'PEffusion', u'fractional_shortening', u'epss', u'lvdd', u'wms', u'wmi'], dtype='object')\n"
       ]
      }
     ],
     "prompt_number": 300
    },
    {
     "cell_type": "code",
     "collapsed": false,
     "input": [
      "plt.scatter(echofile3.HAage, echofile.alive)"
     ],
     "language": "python",
     "metadata": {},
     "outputs": [
      {
       "metadata": {},
       "output_type": "pyout",
       "prompt_number": 368,
       "text": [
        "<matplotlib.collections.PathCollection at 0x1098c4e90>"
       ]
      },
      {
       "metadata": {},
       "output_type": "display_data",
       "png": "[encoded data removed]",
       "text": [
        "<matplotlib.figure.Figure at 0x1097ee2d0>"
       ]
      }
     ],
     "prompt_number": 368
    },
    {
     "cell_type": "code",
     "collapsed": false,
     "input": [
      "plt.scatter(echofile3.survivedmos, echofile.alive)"
     ],
     "language": "python",
     "metadata": {},
     "outputs": [
      {
       "metadata": {},
       "output_type": "pyout",
       "prompt_number": 369,
       "text": [
        "<matplotlib.collections.PathCollection at 0x109bbdc10>"
       ]
      },
      {
       "metadata": {},
       "output_type": "display_data",
       "png": "[encoded data removed]",
       "text": [
        "<matplotlib.figure.Figure at 0x1098b5f10>"
       ]
      }
     ],
     "prompt_number": 369
    },
    {
     "cell_type": "code",
     "collapsed": false,
     "input": [
      "plt.scatter(echofile3.survivedmos, echofile.PEffusion)"
     ],
     "language": "python",
     "metadata": {},
     "outputs": [
      {
       "metadata": {},
       "output_type": "pyout",
       "prompt_number": 372,
       "text": [
        "<matplotlib.collections.PathCollection at 0x10a084990>"
       ]
      },
      {
       "metadata": {},
       "output_type": "display_data",
       "png": "[encoded data removed]",
       "text": [
        "<matplotlib.figure.Figure at 0x1098c6790>"
       ]
      }
     ],
     "prompt_number": 372
    },
    {
     "cell_type": "code",
     "collapsed": false,
     "input": [
      "plt.scatter(echofile3.survivedmos, echofile.HAage)"
     ],
     "language": "python",
     "metadata": {},
     "outputs": [
      {
       "metadata": {},
       "output_type": "pyout",
       "prompt_number": 370,
       "text": [
        "<matplotlib.collections.PathCollection at 0x109bf1150>"
       ]
      },
      {
       "metadata": {},
       "output_type": "display_data",
       "png": "[encoded data removed]",
       "text": [
        "<matplotlib.figure.Figure at 0x1097efc10>"
       ]
      }
     ],
     "prompt_number": 370
    },
    {
     "cell_type": "code",
     "collapsed": false,
     "input": [
      "echofile['HAage'].hist()"
     ],
     "language": "python",
     "metadata": {},
     "outputs": [
      {
       "metadata": {},
       "output_type": "pyout",
       "prompt_number": 371,
       "text": [
        "<matplotlib.axes.AxesSubplot at 0x109bdc2d0>"
       ]
      },
      {
       "metadata": {},
       "output_type": "display_data",
       "png": "[encoded data removed]",
       "text": [
        "<matplotlib.figure.Figure at 0x109bc6290>"
       ]
      }
     ],
     "prompt_number": 371
    },
    {
     "cell_type": "code",
     "collapsed": false,
     "input": [],
     "language": "python",
     "metadata": {},
     "outputs": []
    },
    {
     "cell_type": "code",
     "collapsed": false,
     "input": [],
     "language": "python",
     "metadata": {},
     "outputs": []
    },
    {
     "cell_type": "markdown",
     "metadata": {},
     "source": [
      "###Classifier Setup"
     ]
    },
    {
     "cell_type": "code",
     "collapsed": false,
     "input": [
      "from sklearn.naive_bayes import GaussianNB, BernoulliNB\n",
      "from sklearn.tree import DecisionTreeClassifier\n",
      "from sklearn.neighbors import KNeighborsClassifier\n",
      "from sklearn.linear_model import LogisticRegression\n",
      "\n",
      "from sklearn.cross_validation import train_test_split"
     ],
     "language": "python",
     "metadata": {},
     "outputs": [],
     "prompt_number": 292
    },
    {
     "cell_type": "code",
     "collapsed": false,
     "input": [
      "features = list(echofile3.describe().columns)\n",
      "features.remove('alive') #getting rid of the one we want to match to\n",
      "#features.remove('wmi', 'wms', 'epss')\n",
      "features"
     ],
     "language": "python",
     "metadata": {},
     "outputs": [],
     "prompt_number": 301
    },
    {
     "cell_type": "code",
     "collapsed": false,
     "input": [
      "X = echofile3[features].values\n",
      "Y = echofile3.alive.values"
     ],
     "language": "python",
     "metadata": {},
     "outputs": [],
     "prompt_number": 303
    },
    {
     "cell_type": "code",
     "collapsed": false,
     "input": [
      "features\n",
      "\n",
      "#why is RefId gone?"
     ],
     "language": "python",
     "metadata": {},
     "outputs": [
      {
       "metadata": {},
       "output_type": "pyout",
       "prompt_number": 374,
       "text": [
        "['survivedmos',\n",
        " 'HAage',\n",
        " 'PEffusion',\n",
        " 'fractional_shortening',\n",
        " 'epss',\n",
        " 'lvdd',\n",
        " 'wms',\n",
        " 'wmi']"
       ]
      }
     ],
     "prompt_number": 374
    },
    {
     "cell_type": "code",
     "collapsed": false,
     "input": [],
     "language": "python",
     "metadata": {},
     "outputs": []
    },
    {
     "cell_type": "markdown",
     "metadata": {},
     "source": [
      "##Now lets make the classifiers"
     ]
    },
    {
     "cell_type": "markdown",
     "metadata": {},
     "source": [
      "####Test size: 25%"
     ]
    },
    {
     "cell_type": "code",
     "collapsed": false,
     "input": [
      "X_train, X_test, Y_train, Y_test = train_test_split(X,Y,test_size=0.25)\n",
      "\n",
      "gnb = GaussianNB()\n",
      "bnb = BernoulliNB()\n",
      "lr = LogisticRegression()\n",
      "dt = DecisionTreeClassifier(criterion='entropy', max_depth=3, min_samples_leaf=5)\n",
      "knn = KNeighborsClassifier()\n",
      "\n",
      "#1. Train your classifier on the Training data set\n",
      "gnb.fit(X_train, Y_train)\n",
      "bnb.fit(X_train, Y_train)\n",
      "lr.fit(X_train, Y_train)\n",
      "dt.fit(X_train, Y_train)\n",
      "knn.fit(X_train, Y_train)\n",
      "\n",
      "#2. Score the classifier using the test data set\n",
      "gnb_score = gnb.score(X_test, Y_test)\n",
      "bnb_score = bnb.score(X_test, Y_test)\n",
      "lr_score = lr.score(X_test, Y_test)\n",
      "dt_score = dt.score(X_test, Y_test)\n",
      "knn_score = knn.score(X_test, Y_test)\n",
      "#clf (classification) = gnb, bnb, lr\n",
      "\n",
      "#3. Print the scores\n",
      "print \"Gaussian: %0.2f%%\" %(gnb_score * 100.0)\n",
      "print \"Bernoulli: %0.2f%%\" %(bnb_score * 100.0)\n",
      "print \"Linear Regression: %0.2f%%\" %(lr_score * 100.0)\n",
      "print \"Decision Tree: %0.2f%%\" %(dt_score * 100.0)\n",
      "print \"KNN: %0.2f%%\" %(gnb_score * 100.0)\n",
      "# the '%0.2f%%' is telling it to give me only 2 decimal points in the form of 0.01"
     ],
     "language": "python",
     "metadata": {},
     "outputs": [
      {
       "output_type": "stream",
       "stream": "stdout",
       "text": [
        "Gaussian: 90.91%\n",
        "Bernoulli: 72.73%\n",
        "Linear Regression: 87.88%\n",
        "Decision Tree: 93.94%\n",
        "KNN: 90.91%\n"
       ]
      }
     ],
     "prompt_number": 327
    },
    {
     "cell_type": "raw",
     "metadata": {},
     "source": [
      "A:\n",
      "Gaussian: 75.76%\n",
      "Bernoulli: 57.58%\n",
      "Linear Regression: 78.79%\n",
      "Decision Tree: 90.91%\n",
      "KNN: 75.76%\n",
      "\n",
      "B:\n",
      "\n",
      "Gaussian: 81.82%\n",
      "Bernoulli: 66.67%\n",
      "Linear Regression: 87.88%\n",
      "Decision Tree: 87.88%\n",
      "KNN: 81.82%\n",
      "\n",
      "C:\n",
      "Gaussian: 90.91%\n",
      "Bernoulli: 72.73%\n",
      "Linear Regression: 87.88%\n",
      "Decision Tree: 93.94%\n",
      "KNN: 90.91%"
     ]
    },
    {
     "cell_type": "markdown",
     "metadata": {},
     "source": [
      "####Test size: 30%"
     ]
    },
    {
     "cell_type": "code",
     "collapsed": false,
     "input": [
      "X_train, X_test, Y_train, Y_test = train_test_split(X,Y,test_size=0.3)\n",
      "\n",
      "gnb = GaussianNB()\n",
      "bnb = BernoulliNB()\n",
      "lr = LogisticRegression()\n",
      "dt = DecisionTreeClassifier(criterion='entropy', max_depth=3, min_samples_leaf=5)\n",
      "knn = KNeighborsClassifier()\n",
      "\n",
      "#1. Train your classifier on the Training data set\n",
      "gnb.fit(X_train, Y_train)\n",
      "bnb.fit(X_train, Y_train)\n",
      "lr.fit(X_train, Y_train)\n",
      "dt.fit(X_train, Y_train)\n",
      "knn.fit(X_train, Y_train)\n",
      "\n",
      "#2. Score the classifier using the test data set\n",
      "gnb_score = gnb.score(X_test, Y_test)\n",
      "bnb_score = bnb.score(X_test, Y_test)\n",
      "lr_score = lr.score(X_test, Y_test)\n",
      "dt_score = dt.score(X_test, Y_test)\n",
      "knn_score = knn.score(X_test, Y_test)\n",
      "#clf (classification) = gnb, bnb, lr\n",
      "\n",
      "#3. Print the scores\n",
      "print \"Gaussian: %0.2f%%\" %(gnb_score * 100.0)\n",
      "print \"Bernoulli: %0.2f%%\" %(bnb_score * 100.0)\n",
      "print \"Linear Regression: %0.2f%%\" %(lr_score * 100.0)\n",
      "print \"Decision Tree: %0.2f%%\" %(dt_score * 100.0)\n",
      "print \"KNN: %0.2f%%\" %(gnb_score * 100.0)\n",
      "# the '%0.2f%%' is telling it to give me only 2 decimal points in the form of 0.01"
     ],
     "language": "python",
     "metadata": {},
     "outputs": [
      {
       "output_type": "stream",
       "stream": "stdout",
       "text": [
        "Gaussian: 90.00%\n",
        "Bernoulli: 60.00%\n",
        "Linear Regression: 82.50%\n",
        "Decision Tree: 90.00%\n",
        "KNN: 90.00%\n"
       ]
      }
     ],
     "prompt_number": 353
    },
    {
     "cell_type": "raw",
     "metadata": {},
     "source": [
      "A:\n",
      "Gaussian: 82.50%\n",
      "Bernoulli: 70.00%\n",
      "Linear Regression: 82.50%\n",
      "Decision Tree: 95.00%\n",
      "KNN: 82.50%\n",
      "\n",
      "B:\n",
      "Gaussian: 87.50%\n",
      "Bernoulli: 72.50%\n",
      "Linear Regression: 92.50%\n",
      "Decision Tree: 92.50%\n",
      "KNN: 87.50%\n",
      "\n",
      "C:\n",
      "Gaussian: 90.00%\n",
      "Bernoulli: 60.00%\n",
      "Linear Regression: 82.50%\n",
      "Decision Tree: 90.00%\n",
      "KNN: 90.00%\n",
      "\n",
      "Clearly, these are not that stable??! "
     ]
    },
    {
     "cell_type": "markdown",
     "metadata": {},
     "source": [
      "####Test size: 45%"
     ]
    },
    {
     "cell_type": "code",
     "collapsed": false,
     "input": [
      "X_train, X_test, Y_train, Y_test = train_test_split(X,Y,test_size=0.45)\n",
      "\n",
      "gnb = GaussianNB()\n",
      "bnb = BernoulliNB()\n",
      "lr = LogisticRegression()\n",
      "dt = DecisionTreeClassifier(criterion='entropy', max_depth=3, min_samples_leaf=5)\n",
      "knn = KNeighborsClassifier()\n",
      "\n",
      "#1. Train your classifier on the Training data set\n",
      "gnb.fit(X_train, Y_train)\n",
      "bnb.fit(X_train, Y_train)\n",
      "lr.fit(X_train, Y_train)\n",
      "dt.fit(X_train, Y_train)\n",
      "knn.fit(X_train, Y_train)\n",
      "\n",
      "#2. Score the classifier using the test data set\n",
      "gnb_score = gnb.score(X_test, Y_test)\n",
      "bnb_score = bnb.score(X_test, Y_test)\n",
      "lr_score = lr.score(X_test, Y_test)\n",
      "dt_score = dt.score(X_test, Y_test)\n",
      "knn_score = knn.score(X_test, Y_test)\n",
      "#clf (classification) = gnb, bnb, lr\n",
      "\n",
      "#3. Print the scores\n",
      "print \"Gaussian: %0.2f%%\" %(gnb_score * 100.0)\n",
      "print \"Bernoulli: %0.2f%%\" %(bnb_score * 100.0)\n",
      "print \"Linear Regression: %0.2f%%\" %(lr_score * 100.0)\n",
      "print \"Decision Tree: %0.2f%%\" %(dt_score * 100.0)\n",
      "print \"KNN: %0.2f%%\" %(gnb_score * 100.0)\n",
      "# the '%0.2f%%' is telling it to give me only 2 decimal points in the form of 0.01"
     ],
     "language": "python",
     "metadata": {},
     "outputs": [
      {
       "output_type": "stream",
       "stream": "stdout",
       "text": [
        "Gaussian: 86.44%\n",
        "Bernoulli: 64.41%\n",
        "Linear Regression: 88.14%\n",
        "Decision Tree: 93.22%\n",
        "KNN: 86.44%\n"
       ]
      }
     ],
     "prompt_number": 335
    },
    {
     "cell_type": "raw",
     "metadata": {},
     "source": [
      "A: \n",
      "Gaussian: 81.36%\n",
      "Bernoulli: 64.41%\n",
      "Linear Regression: 84.75%\n",
      "Decision Tree: 89.83%\n",
      "KNN: 81.36%\n",
      "\n",
      "B:\n",
      "Gaussian: 84.75%\n",
      "Bernoulli: 67.80%\n",
      "Linear Regression: 83.05%\n",
      "Decision Tree: 91.53%\n",
      "KNN: 84.75%\n",
      "\n",
      "C:\n",
      "Gaussian: 86.44%\n",
      "Bernoulli: 64.41%\n",
      "Linear Regression: 88.14%\n",
      "Decision Tree: 93.22%\n",
      "KNN: 86.44%"
     ]
    },
    {
     "cell_type": "markdown",
     "metadata": {},
     "source": [
      "####Let's explore the 25% Test Size Classifiers\n"
     ]
    },
    {
     "cell_type": "code",
     "collapsed": false,
     "input": [
      "X_train, X_test, Y_train, Y_test = train_test_split(X,Y,test_size=0.25)\n",
      "\n",
      "gnb = GaussianNB()\n",
      "bnb = BernoulliNB()\n",
      "lr = LogisticRegression()\n",
      "dt = DecisionTreeClassifier(criterion='entropy', max_depth=3, min_samples_leaf=5)\n",
      "knn = KNeighborsClassifier()\n",
      "\n",
      "#1. Train your classifier on the Training data set\n",
      "gnb.fit(X_train, Y_train)\n",
      "bnb.fit(X_train, Y_train)\n",
      "lr.fit(X_train, Y_train)\n",
      "dt.fit(X_train, Y_train)\n",
      "knn.fit(X_train, Y_train)\n",
      "\n",
      "\n",
      "#2. Score the classifier using the test data set\n",
      "gnb_train_score = gnb.score(X_train, Y_train)\n",
      "bnb_train_score = bnb.score(X_train, Y_train)\n",
      "lr_train_score = lr.score(X_train, Y_train)\n",
      "dt_train_score = dt.score(X_train, Y_train)\n",
      "knn_train_score = knn.score(X_train, Y_train)\n",
      "#clf (classification) = gnb, bnb, lr\n",
      "\n",
      "#3. Print the scores\n",
      "print \"Training with Gaussian: %0.2f%%\" %(gnb_train_score * 100.0)\n",
      "print \"Training with Bernoulli: %0.2f%%\" %(bnb_train_score * 100.0)\n",
      "print \"Training with Linear Regression: %0.2f%%\" %(lr_train_score * 100.0)\n",
      "print \"Training with Decision Tree: %0.2f%%\" %(dt_train_score * 100.0)\n",
      "print \"Training with KNN: %0.2f%%\" %(knn_train_score * 100.0)\n",
      "\n",
      "\n",
      "print \"---\"*20\n",
      "\n",
      "\n",
      "#4. Score the classifier using the test data set\n",
      "gnb_test_score = gnb.score(X_test, Y_test)\n",
      "bnb_test_score = bnb.score(X_test, Y_test)\n",
      "lr_test_score = lr.score(X_test, Y_test)\n",
      "dt_test_score = dt.score(X_test, Y_test)\n",
      "knn_test_score = knn.score(X_test, Y_test)\n",
      "#clf (classification) = gnb, bnb, lr\n",
      "\n",
      "#5. Print the scores\n",
      "print \"Testing with Gaussian: %0.2f%%\" %(gnb_test_score * 100.0)\n",
      "print \"Testing with Bernoulli: %0.2f%%\" %(bnb_test_score * 100.0)\n",
      "print \"Testing with Linear Regression: %0.2f%%\" %(lr_test_score * 100.0)\n",
      "print \"Testing with Decision Tree: %0.2f%%\" %(dt_test_score * 100.0)\n",
      "print \"Testing with KNN: %0.2f%%\" %(knn_test_score * 100.0)\n",
      "# the '%0.2f%%' is telling it to give me only 2 decimal points in the form of 0.01"
     ],
     "language": "python",
     "metadata": {},
     "outputs": [
      {
       "output_type": "stream",
       "stream": "stdout",
       "text": [
        "Training with Gaussian: 84.69%\n",
        "Training with Bernoulli: 67.35%\n",
        "Training with Linear Regression: 86.73%\n",
        "Training with Decision Tree: 92.86%\n",
        "Training with KNN: 90.82%\n",
        "------------------------------------------------------------\n",
        "Testing with Gaussian: 87.88%\n",
        "Testing with Bernoulli: 66.67%\n",
        "Testing with Linear Regression: 87.88%\n",
        "Testing with Decision Tree: 90.91%\n",
        "Testing with KNN: 87.88%\n"
       ]
      }
     ],
     "prompt_number": 357
    },
    {
     "cell_type": "code",
     "collapsed": false,
     "input": [
      "Y_gnb_pred = gnb.predict(X_test)\n",
      "Y_bnb_pred = bnb.predict(X_test)\n",
      "Y_lr_pred = lr.predict(X_test)\n",
      "Y_dt_pred = dt.predict(X_test)\n",
      "Y_knn_pred = knn.predict(X_test)"
     ],
     "language": "python",
     "metadata": {},
     "outputs": [],
     "prompt_number": 360
    },
    {
     "cell_type": "code",
     "collapsed": false,
     "input": [],
     "language": "python",
     "metadata": {},
     "outputs": []
    },
    {
     "cell_type": "code",
     "collapsed": false,
     "input": [
      "pl.scatter(X_train[:,0], X_train[:,1], X_train[:,2], X_train[:,3]), X_train[:,4]"
     ],
     "language": "python",
     "metadata": {},
     "outputs": [
      {
       "metadata": {},
       "output_type": "pyout",
       "prompt_number": 367,
       "text": [
        "<matplotlib.collections.PathCollection at 0x109871f90>"
       ]
      },
      {
       "metadata": {},
       "output_type": "display_data",
       "png": "[encoded data removed]",
       "text": [
        "<matplotlib.figure.Figure at 0x109890a90>"
       ]
      }
     ],
     "prompt_number": 367
    },
    {
     "cell_type": "code",
     "collapsed": false,
     "input": [
      "len(Y_test)\n",
      "n = len(Y_test)\n",
      "data_RefId = [i+1 for i in xrange(n)]\n"
     ],
     "language": "python",
     "metadata": {},
     "outputs": [
      {
       "metadata": {},
       "output_type": "pyout",
       "prompt_number": 393,
       "text": [
        "33"
       ]
      }
     ],
     "prompt_number": 393
    },
    {
     "cell_type": "code",
     "collapsed": false,
     "input": [],
     "language": "python",
     "metadata": {},
     "outputs": [],
     "prompt_number": 394
    },
    {
     "cell_type": "code",
     "collapsed": false,
     "input": [
      "submissiongnb = pd.DataFrame({ 'RefId': data_RefId, 'GNB prediction' : Y_gnb_pred})\n",
      "submissiongnb.to_csv('submission_gnb.csv')\n",
      "\n",
      "submissionbnb = pd.DataFrame({ 'RefId': data_RefId, 'BNB prediction' : Y_bnb_pred})\n",
      "submissionbnb.to_csv('submission_bnb.csv')\n",
      "\n",
      "submissionlr = pd.DataFrame({ 'RefId': data_RefId, 'LR prediction' : Y_lr_pred})\n",
      "submissionlr.to_csv('submission_lr.csv')\n",
      "\n",
      "submissiondt = pd.DataFrame({ 'RefId': data_RefId, 'DT prediction' : Y_dt_pred})\n",
      "submissiondt.to_csv('submission_dt.csv')\n",
      "\n",
      "submissionknn = pd.DataFrame({ 'RefId': data_RefId, 'KNN prediction' : Y_knn_pred})\n",
      "submissionknn.to_csv('submission_knn.csv')\n",
      "\n",
      "submissionall = pd.DataFrame({ 'RefId': data_RefId, 'GNB prediction' : Y_gnb_pred, 'BNB prediction' : Y_bnb_pred, 'LR prediction' : Y_lr_pred, 'DT prediction' : Y_dt_pred, 'KNN prediction' : Y_knn_pred})\n",
      "submissionall.to_csv('submission_all.csv')"
     ],
     "language": "python",
     "metadata": {},
     "outputs": [],
     "prompt_number": 398
    },
    {
     "cell_type": "code",
     "collapsed": false,
     "input": [],
     "language": "python",
     "metadata": {},
     "outputs": [],
     "prompt_number": 275
    },
    {
     "cell_type": "code",
     "collapsed": false,
     "input": [
      "\n"
     ],
     "language": "python",
     "metadata": {},
     "outputs": [],
     "prompt_number": 164
    },
    {
     "cell_type": "code",
     "collapsed": false,
     "input": [],
     "language": "python",
     "metadata": {},
     "outputs": [],
     "prompt_number": 275
    },
    {
     "cell_type": "code",
     "collapsed": false,
     "input": [],
     "language": "python",
     "metadata": {},
     "outputs": [],
     "prompt_number": 276
    },
    {
     "cell_type": "code",
     "collapsed": false,
     "input": [],
     "language": "python",
     "metadata": {},
     "outputs": [],
     "prompt_number": 276
    },
    {
     "cell_type": "code",
     "collapsed": false,
     "input": [],
     "language": "python",
     "metadata": {},
     "outputs": [],
     "prompt_number": 276
    },
    {
     "cell_type": "code",
     "collapsed": false,
     "input": [],
     "language": "python",
     "metadata": {},
     "outputs": [],
     "prompt_number": 276
    },
    {
     "cell_type": "code",
     "collapsed": false,
     "input": [
      "\n"
     ],
     "language": "python",
     "metadata": {},
     "outputs": [],
     "prompt_number": 276
    },
    {
     "cell_type": "code",
     "collapsed": false,
     "input": [],
     "language": "python",
     "metadata": {},
     "outputs": []
    }
   ],
   "metadata": {}
  }
 ]
}