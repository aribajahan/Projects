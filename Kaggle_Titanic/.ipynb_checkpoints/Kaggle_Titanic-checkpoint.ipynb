{
 "metadata": {
  "name": ""
 },
 "nbformat": 3,
 "nbformat_minor": 0,
 "worksheets": [
  {
   "cells": [
    {
     "cell_type": "code",
     "collapsed": false,
     "input": [
      "import csv as csv\n",
      "import numpy as np\n",
      "\n",
      "\n",
      "csv_file_object = csv.reader(open('data/train.csv','rb'))\n",
      "header = csv_file_object.next()\n",
      "\n",
      "#the next() command skips the first line which is a header\n",
      "\n",
      "\n",
      "data = []  \n",
      "for row in csv_file_object:\n",
      "    data.append(row)      #this runs through each row, and adds it to the data variable\n",
      "data = np.array(data)          #this converts the list to an array, but it's still in string format"
     ],
     "language": "python",
     "metadata": {},
     "outputs": [],
     "prompt_number": 15
    },
    {
     "cell_type": "code",
     "collapsed": false,
     "input": [
      "print data           #Quotes suggest that it's being stored as strings\n"
     ],
     "language": "python",
     "metadata": {},
     "outputs": [
      {
       "output_type": "stream",
       "stream": "stdout",
       "text": [
        "[['1' '0' '3' ..., '7.25' '' 'S']\n",
        " ['2' '1' '1' ..., '71.2833' 'C85' 'C']\n",
        " ['3' '1' '3' ..., '7.925' '' 'S']\n",
        " ..., \n",
        " ['889' '0' '3' ..., '23.45' '' 'S']\n",
        " ['890' '1' '1' ..., '30' 'C148' 'C']\n",
        " ['891' '0' '3' ..., '7.75' '' 'Q']]\n"
       ]
      }
     ],
     "prompt_number": 16
    },
    {
     "cell_type": "code",
     "collapsed": false,
     "input": [
      "print data [0]     #this prints the first row"
     ],
     "language": "python",
     "metadata": {},
     "outputs": [
      {
       "output_type": "stream",
       "stream": "stdout",
       "text": [
        "['1' '0' '3' 'Braund, Mr. Owen Harris' 'male' '22' '1' '0' 'A/5 21171'\n",
        " '7.25' '' 'S']\n"
       ]
      }
     ],
     "prompt_number": 18
    },
    {
     "cell_type": "code",
     "collapsed": false,
     "input": [
      "print data [0, 3]     #to print the 4th column"
     ],
     "language": "python",
     "metadata": {},
     "outputs": [
      {
       "output_type": "stream",
       "stream": "stdout",
       "text": [
        "Braund, Mr. Owen Harris\n"
       ]
      }
     ],
     "prompt_number": 21
    },
    {
     "cell_type": "code",
     "collapsed": false,
     "input": [
      "print data[0::,4]\n",
      "#this is strings"
     ],
     "language": "python",
     "metadata": {},
     "outputs": [
      {
       "output_type": "stream",
       "stream": "stdout",
       "text": [
        "['male' 'female' 'female' 'female' 'male' 'male' 'male' 'male' 'female'\n",
        " 'female' 'female' 'female' 'male' 'male' 'female' 'female' 'male' 'male'\n",
        " 'female' 'female' 'male' 'male' 'female' 'male' 'female' 'female' 'male'\n",
        " 'male' 'female' 'male' 'male' 'female' 'female' 'male' 'male' 'male'\n",
        " 'male' 'male' 'female' 'female' 'female' 'female' 'male' 'female' 'female'\n",
        " 'male' 'male' 'female' 'male' 'female' 'male' 'male' 'female' 'female'\n",
        " 'male' 'male' 'female' 'male' 'female' 'male' 'male' 'female' 'male'\n",
        " 'male' 'male' 'male' 'female' 'male' 'female' 'male' 'male' 'female'\n",
        " 'male' 'male' 'male' 'male' 'male' 'male' 'male' 'female' 'male' 'male'\n",
        " 'female' 'male' 'female' 'female' 'male' 'male' 'female' 'male' 'male'\n",
        " 'male' 'male' 'male' 'male' 'male' 'male' 'male' 'female' 'male' 'female'\n",
        " 'male' 'male' 'male' 'male' 'male' 'female' 'male' 'male' 'female' 'male'\n",
        " 'female' 'male' 'female' 'female' 'male' 'male' 'male' 'male' 'female'\n",
        " 'male' 'male' 'male' 'female' 'male' 'male' 'male' 'male' 'female' 'male'\n",
        " 'male' 'male' 'female' 'female' 'male' 'male' 'female' 'male' 'male'\n",
        " 'male' 'female' 'female' 'female' 'male' 'male' 'male' 'male' 'female'\n",
        " 'male' 'male' 'male' 'female' 'male' 'male' 'male' 'male' 'female' 'male'\n",
        " 'male' 'male' 'male' 'female' 'male' 'male' 'male' 'male' 'female'\n",
        " 'female' 'male' 'male' 'male' 'male' 'female' 'male' 'male' 'male' 'male'\n",
        " 'female' 'male' 'male' 'female' 'male' 'male' 'male' 'female' 'male'\n",
        " 'female' 'male' 'male' 'male' 'female' 'male' 'female' 'male' 'female'\n",
        " 'female' 'male' 'male' 'female' 'female' 'male' 'male' 'male' 'male'\n",
        " 'male' 'female' 'male' 'male' 'female' 'male' 'male' 'female' 'male'\n",
        " 'male' 'male' 'female' 'female' 'male' 'female' 'male' 'male' 'male'\n",
        " 'male' 'male' 'male' 'male' 'male' 'male' 'male' 'female' 'female' 'male'\n",
        " 'male' 'female' 'male' 'female' 'male' 'female' 'male' 'male' 'female'\n",
        " 'female' 'male' 'male' 'male' 'male' 'female' 'female' 'male' 'male'\n",
        " 'male' 'female' 'male' 'male' 'female' 'female' 'female' 'female' 'female'\n",
        " 'female' 'male' 'male' 'male' 'male' 'female' 'male' 'male' 'male'\n",
        " 'female' 'female' 'male' 'male' 'female' 'male' 'female' 'female' 'female'\n",
        " 'male' 'male' 'female' 'male' 'male' 'male' 'male' 'male' 'male' 'male'\n",
        " 'male' 'male' 'female' 'female' 'female' 'male' 'female' 'male' 'male'\n",
        " 'male' 'female' 'male' 'female' 'female' 'male' 'male' 'female' 'male'\n",
        " 'male' 'female' 'female' 'male' 'female' 'female' 'female' 'female' 'male'\n",
        " 'male' 'female' 'female' 'male' 'female' 'female' 'male' 'male' 'female'\n",
        " 'female' 'male' 'female' 'male' 'female' 'female' 'female' 'female' 'male'\n",
        " 'male' 'male' 'female' 'male' 'male' 'female' 'male' 'male' 'male'\n",
        " 'female' 'male' 'male' 'male' 'female' 'female' 'female' 'male' 'male'\n",
        " 'male' 'male' 'male' 'male' 'male' 'male' 'female' 'female' 'female'\n",
        " 'female' 'male' 'male' 'female' 'male' 'male' 'male' 'female' 'female'\n",
        " 'female' 'female' 'male' 'male' 'male' 'male' 'female' 'female' 'female'\n",
        " 'male' 'male' 'male' 'female' 'female' 'male' 'female' 'male' 'male'\n",
        " 'male' 'female' 'male' 'female' 'male' 'male' 'male' 'female' 'female'\n",
        " 'male' 'female' 'male' 'male' 'female' 'male' 'male' 'female' 'male'\n",
        " 'female' 'male' 'male' 'male' 'male' 'female' 'male' 'male' 'female'\n",
        " 'male' 'male' 'female' 'female' 'female' 'male' 'female' 'male' 'male'\n",
        " 'male' 'female' 'male' 'male' 'female' 'female' 'male' 'male' 'male'\n",
        " 'female' 'female' 'male' 'male' 'female' 'female' 'female' 'male' 'male'\n",
        " 'female' 'male' 'male' 'female' 'male' 'male' 'female' 'male' 'female'\n",
        " 'male' 'male' 'male' 'male' 'male' 'male' 'male' 'male' 'female' 'female'\n",
        " 'male' 'male' 'male' 'male' 'male' 'male' 'male' 'male' 'male' 'male'\n",
        " 'female' 'male' 'male' 'female' 'female' 'female' 'male' 'male' 'male'\n",
        " 'male' 'female' 'male' 'male' 'male' 'female' 'male' 'female' 'female'\n",
        " 'male' 'male' 'male' 'male' 'male' 'male' 'male' 'male' 'male' 'female'\n",
        " 'male' 'female' 'male' 'male' 'female' 'female' 'female' 'female' 'male'\n",
        " 'female' 'male' 'male' 'male' 'male' 'male' 'male' 'female' 'male' 'male'\n",
        " 'female' 'male' 'female' 'male' 'female' 'male' 'male' 'female' 'male'\n",
        " 'male' 'female' 'male' 'male' 'male' 'female' 'male' 'male' 'female'\n",
        " 'female' 'female' 'male' 'female' 'male' 'female' 'female' 'female'\n",
        " 'female' 'male' 'male' 'male' 'female' 'male' 'male' 'male' 'male' 'male'\n",
        " 'male' 'male' 'female' 'male' 'female' 'male' 'female' 'female' 'male'\n",
        " 'male' 'male' 'male' 'female' 'male' 'male' 'female' 'male' 'male' 'male'\n",
        " 'female' 'male' 'female' 'male' 'male' 'female' 'female' 'female' 'male'\n",
        " 'female' 'female' 'male' 'male' 'male' 'female' 'male' 'male' 'male'\n",
        " 'male' 'male' 'female' 'male' 'female' 'male' 'male' 'female' 'male'\n",
        " 'male' 'male' 'female' 'male' 'male' 'male' 'male' 'male' 'male' 'male'\n",
        " 'female' 'female' 'female' 'male' 'female' 'male' 'male' 'female' 'male'\n",
        " 'female' 'female' 'male' 'male' 'male' 'male' 'male' 'male' 'male' 'male'\n",
        " 'female' 'male' 'male' 'male' 'male' 'male' 'male' 'female' 'female'\n",
        " 'male' 'male' 'female' 'male' 'male' 'female' 'female' 'male' 'female'\n",
        " 'male' 'male' 'male' 'male' 'female' 'male' 'female' 'male' 'female'\n",
        " 'female' 'male' 'male' 'female' 'male' 'male' 'male' 'male' 'male' 'male'\n",
        " 'male' 'male' 'male' 'male' 'male' 'female' 'female' 'male' 'male' 'male'\n",
        " 'male' 'male' 'male' 'female' 'female' 'male' 'female' 'male' 'male'\n",
        " 'male' 'male' 'male' 'male' 'male' 'male' 'female' 'male' 'female' 'male'\n",
        " 'male' 'male' 'male' 'male' 'female' 'male' 'male' 'female' 'male'\n",
        " 'female' 'male' 'male' 'male' 'female' 'male' 'female' 'male' 'female'\n",
        " 'male' 'male' 'male' 'male' 'male' 'female' 'female' 'male' 'male'\n",
        " 'female' 'male' 'male' 'male' 'male' 'male' 'female' 'female' 'male'\n",
        " 'female' 'female' 'male' 'male' 'male' 'male' 'male' 'female' 'male'\n",
        " 'male' 'male' 'male' 'male' 'female' 'male' 'male' 'male' 'male' 'female'\n",
        " 'male' 'male' 'female' 'male' 'male' 'male' 'female' 'male' 'male' 'male'\n",
        " 'male' 'female' 'male' 'male' 'male' 'female' 'male' 'female' 'male'\n",
        " 'female' 'male' 'male' 'male' 'male' 'female' 'male' 'female' 'male'\n",
        " 'male' 'female' 'male' 'female' 'female' 'female' 'male' 'male' 'male'\n",
        " 'male' 'female' 'male' 'male' 'male' 'male' 'male' 'female' 'male' 'male'\n",
        " 'male' 'female' 'female' 'male' 'female' 'male' 'female' 'male' 'male'\n",
        " 'male' 'male' 'male' 'female' 'male' 'female' 'male' 'male' 'male'\n",
        " 'female' 'male' 'male' 'female' 'male' 'male' 'male' 'female' 'male'\n",
        " 'male' 'female' 'male' 'male' 'male' 'male' 'male' 'female' 'female'\n",
        " 'male' 'male' 'male' 'male' 'female' 'male' 'male' 'male' 'male' 'male'\n",
        " 'male' 'female' 'male' 'male' 'male' 'male' 'male' 'male' 'female' 'male'\n",
        " 'male' 'female' 'female' 'female' 'female' 'female' 'male' 'female' 'male'\n",
        " 'male' 'male' 'female' 'female' 'male' 'female' 'female' 'male' 'male'\n",
        " 'male' 'male' 'female' 'male' 'male' 'female' 'female' 'male' 'male'\n",
        " 'male' 'female' 'female' 'male' 'female' 'male' 'male' 'female' 'male'\n",
        " 'female' 'female' 'male' 'male']\n"
       ]
      }
     ],
     "prompt_number": 25
    },
    {
     "cell_type": "code",
     "collapsed": false,
     "input": [
      "#in order to do math with any column, convert them to floats. Lets try it on column 2= column of their class. \n",
      "data[0::,2].astype(np.float)"
     ],
     "language": "python",
     "metadata": {},
     "outputs": [
      {
       "metadata": {},
       "output_type": "pyout",
       "prompt_number": 27,
       "text": [
        "array([ 3.,  1.,  3.,  1.,  3.,  3.,  1.,  3.,  3.,  2.,  3.,  1.,  3.,\n",
        "        3.,  3.,  2.,  3.,  2.,  3.,  3.,  2.,  2.,  3.,  1.,  3.,  3.,\n",
        "        3.,  1.,  3.,  3.,  1.,  1.,  3.,  2.,  1.,  1.,  3.,  3.,  3.,\n",
        "        3.,  3.,  2.,  3.,  2.,  3.,  3.,  3.,  3.,  3.,  3.,  3.,  3.,\n",
        "        1.,  2.,  1.,  1.,  2.,  3.,  2.,  3.,  3.,  1.,  1.,  3.,  1.,\n",
        "        3.,  2.,  3.,  3.,  3.,  2.,  3.,  2.,  3.,  3.,  3.,  3.,  3.,\n",
        "        2.,  3.,  3.,  3.,  3.,  1.,  2.,  3.,  3.,  3.,  1.,  3.,  3.,\n",
        "        3.,  1.,  3.,  3.,  3.,  1.,  1.,  2.,  2.,  3.,  3.,  1.,  3.,\n",
        "        3.,  3.,  3.,  3.,  3.,  3.,  1.,  3.,  3.,  3.,  3.,  3.,  3.,\n",
        "        2.,  1.,  3.,  2.,  3.,  2.,  2.,  1.,  3.,  3.,  3.,  3.,  3.,\n",
        "        3.,  3.,  3.,  2.,  2.,  2.,  1.,  1.,  3.,  1.,  3.,  3.,  3.,\n",
        "        3.,  2.,  2.,  3.,  3.,  2.,  2.,  2.,  1.,  3.,  3.,  3.,  1.,\n",
        "        3.,  3.,  3.,  3.,  3.,  2.,  3.,  3.,  3.,  3.,  1.,  3.,  1.,\n",
        "        3.,  1.,  3.,  3.,  3.,  1.,  3.,  3.,  1.,  2.,  3.,  3.,  2.,\n",
        "        3.,  2.,  3.,  1.,  3.,  1.,  3.,  3.,  2.,  2.,  3.,  2.,  1.,\n",
        "        1.,  3.,  3.,  3.,  2.,  3.,  3.,  3.,  3.,  3.,  3.,  3.,  3.,\n",
        "        3.,  1.,  3.,  2.,  3.,  2.,  3.,  1.,  3.,  2.,  1.,  2.,  3.,\n",
        "        2.,  3.,  3.,  1.,  3.,  2.,  3.,  2.,  3.,  1.,  3.,  2.,  3.,\n",
        "        2.,  3.,  2.,  2.,  2.,  2.,  3.,  3.,  2.,  3.,  3.,  1.,  3.,\n",
        "        2.,  1.,  2.,  3.,  3.,  1.,  3.,  3.,  3.,  1.,  1.,  1.,  2.,\n",
        "        3.,  3.,  1.,  1.,  3.,  2.,  3.,  3.,  1.,  1.,  1.,  3.,  2.,\n",
        "        1.,  3.,  1.,  3.,  2.,  3.,  3.,  3.,  3.,  3.,  3.,  1.,  3.,\n",
        "        3.,  3.,  2.,  3.,  1.,  1.,  2.,  3.,  3.,  1.,  3.,  1.,  1.,\n",
        "        1.,  3.,  3.,  3.,  2.,  3.,  1.,  1.,  1.,  2.,  1.,  1.,  1.,\n",
        "        2.,  3.,  2.,  3.,  2.,  2.,  1.,  1.,  3.,  3.,  2.,  2.,  3.,\n",
        "        1.,  3.,  2.,  3.,  1.,  3.,  1.,  1.,  3.,  1.,  3.,  1.,  1.,\n",
        "        3.,  1.,  2.,  1.,  2.,  2.,  2.,  2.,  2.,  3.,  3.,  3.,  3.,\n",
        "        1.,  3.,  3.,  3.,  3.,  1.,  2.,  3.,  3.,  3.,  2.,  3.,  3.,\n",
        "        3.,  3.,  1.,  3.,  3.,  1.,  1.,  3.,  3.,  1.,  3.,  1.,  3.,\n",
        "        1.,  3.,  3.,  1.,  3.,  3.,  1.,  3.,  2.,  3.,  2.,  3.,  2.,\n",
        "        1.,  3.,  3.,  1.,  3.,  3.,  3.,  2.,  2.,  2.,  3.,  3.,  3.,\n",
        "        3.,  3.,  2.,  3.,  2.,  3.,  3.,  3.,  3.,  1.,  2.,  3.,  3.,\n",
        "        2.,  2.,  2.,  3.,  3.,  3.,  3.,  3.,  3.,  3.,  2.,  2.,  3.,\n",
        "        3.,  1.,  3.,  2.,  3.,  1.,  1.,  3.,  2.,  1.,  2.,  2.,  3.,\n",
        "        3.,  2.,  3.,  1.,  2.,  1.,  3.,  1.,  2.,  3.,  1.,  1.,  3.,\n",
        "        3.,  1.,  1.,  2.,  3.,  1.,  3.,  1.,  2.,  3.,  3.,  2.,  1.,\n",
        "        3.,  3.,  3.,  3.,  2.,  2.,  3.,  1.,  2.,  3.,  3.,  3.,  3.,\n",
        "        2.,  3.,  3.,  1.,  3.,  1.,  1.,  3.,  3.,  3.,  3.,  1.,  1.,\n",
        "        3.,  3.,  1.,  3.,  1.,  3.,  3.,  3.,  3.,  3.,  1.,  1.,  2.,\n",
        "        1.,  3.,  3.,  3.,  3.,  1.,  1.,  3.,  1.,  2.,  3.,  2.,  3.,\n",
        "        1.,  3.,  3.,  1.,  3.,  3.,  2.,  1.,  3.,  2.,  2.,  3.,  3.,\n",
        "        3.,  3.,  2.,  1.,  1.,  3.,  1.,  1.,  3.,  3.,  2.,  1.,  1.,\n",
        "        2.,  2.,  3.,  2.,  1.,  2.,  3.,  3.,  3.,  1.,  1.,  1.,  1.,\n",
        "        3.,  3.,  3.,  2.,  3.,  3.,  3.,  3.,  3.,  3.,  3.,  2.,  1.,\n",
        "        1.,  3.,  3.,  3.,  2.,  1.,  3.,  3.,  2.,  1.,  2.,  1.,  3.,\n",
        "        1.,  2.,  1.,  3.,  3.,  3.,  1.,  3.,  3.,  2.,  3.,  2.,  3.,\n",
        "        3.,  1.,  2.,  3.,  1.,  3.,  1.,  3.,  3.,  1.,  2.,  1.,  3.,\n",
        "        3.,  3.,  3.,  3.,  2.,  3.,  3.,  2.,  2.,  3.,  1.,  3.,  3.,\n",
        "        3.,  1.,  2.,  1.,  3.,  3.,  1.,  3.,  1.,  1.,  3.,  2.,  3.,\n",
        "        2.,  3.,  3.,  3.,  1.,  3.,  3.,  3.,  1.,  3.,  1.,  3.,  3.,\n",
        "        3.,  2.,  3.,  3.,  3.,  2.,  3.,  3.,  2.,  1.,  1.,  3.,  1.,\n",
        "        3.,  3.,  2.,  2.,  3.,  3.,  1.,  2.,  1.,  2.,  2.,  2.,  3.,\n",
        "        3.,  3.,  3.,  1.,  3.,  1.,  3.,  3.,  2.,  2.,  3.,  3.,  3.,\n",
        "        1.,  1.,  3.,  3.,  3.,  1.,  2.,  3.,  3.,  1.,  3.,  1.,  1.,\n",
        "        3.,  3.,  3.,  2.,  2.,  1.,  1.,  3.,  1.,  1.,  1.,  3.,  2.,\n",
        "        3.,  1.,  2.,  3.,  3.,  2.,  3.,  2.,  2.,  1.,  3.,  2.,  3.,\n",
        "        2.,  3.,  1.,  3.,  2.,  2.,  2.,  3.,  3.,  1.,  3.,  3.,  1.,\n",
        "        1.,  1.,  3.,  3.,  1.,  3.,  2.,  1.,  3.,  2.,  3.,  3.,  3.,\n",
        "        2.,  2.,  3.,  2.,  3.,  1.,  3.,  3.,  3.,  1.,  3.,  1.,  1.,\n",
        "        3.,  3.,  3.,  3.,  3.,  2.,  3.,  2.,  3.,  3.,  3.,  3.,  1.,\n",
        "        3.,  1.,  1.,  3.,  3.,  3.,  3.,  3.,  3.,  1.,  3.,  2.,  3.,\n",
        "        1.,  3.,  2.,  1.,  3.,  3.,  3.,  2.,  2.,  1.,  3.,  3.,  3.,\n",
        "        1.,  3.,  2.,  1.,  3.,  3.,  2.,  3.,  3.,  1.,  3.,  2.,  3.,\n",
        "        3.,  1.,  3.,  1.,  3.,  3.,  3.,  3.,  2.,  3.,  1.,  3.,  2.,\n",
        "        3.,  3.,  3.,  1.,  3.,  3.,  3.,  1.,  3.,  2.,  1.,  3.,  3.,\n",
        "        3.,  3.,  3.,  2.,  1.,  3.,  3.,  3.,  1.,  2.,  3.,  1.,  1.,\n",
        "        3.,  3.,  3.,  2.,  1.,  3.,  2.,  2.,  2.,  1.,  3.,  3.,  3.,\n",
        "        1.,  1.,  3.,  2.,  3.,  3.,  3.,  3.,  1.,  2.,  3.,  3.,  2.,\n",
        "        3.,  3.,  2.,  1.,  3.,  1.,  3.])"
       ]
      }
     ],
     "prompt_number": 27
    },
    {
     "cell_type": "code",
     "collapsed": false,
     "input": [
      "number_passengers = np.size(data[0::,1].astype(np.float)) #counts how many observations are in this array\n",
      "number_survived = np.sum(data[0::,1].astype(np.float))  #sum sums up all the elements in the array\n",
      "\n",
      "proportion_survivors = number_survived / number_passengers"
     ],
     "language": "python",
     "metadata": {},
     "outputs": [],
     "prompt_number": 34
    },
    {
     "cell_type": "code",
     "collapsed": false,
     "input": [
      "print number"
     ],
     "language": "python",
     "metadata": {},
     "outputs": []
    },
    {
     "cell_type": "code",
     "collapsed": false,
     "input": [
      "women_only_stats = data[0::, 4] == \"female\" #this is only jotting down true/false,convert to float to use\n",
      "\n",
      "men_only_stats = data[0::,4] != \"female\""
     ],
     "language": "python",
     "metadata": {},
     "outputs": [],
     "prompt_number": 31
    },
    {
     "cell_type": "code",
     "collapsed": false,
     "input": [
      "print women_only_stats"
     ],
     "language": "python",
     "metadata": {},
     "outputs": [
      {
       "output_type": "stream",
       "stream": "stdout",
       "text": [
        "[False  True  True  True False False False False  True  True  True  True\n",
        " False False  True  True False False  True  True False False  True False\n",
        "  True  True False False  True False False  True  True False False False\n",
        " False False  True  True  True  True False  True  True False False  True\n",
        " False  True False False  True  True False False  True False  True False\n",
        " False  True False False False False  True False  True False False  True\n",
        " False False False False False False False  True False False  True False\n",
        "  True  True False False  True False False False False False False False\n",
        " False False  True False  True False False False False False  True False\n",
        " False  True False  True False  True  True False False False False  True\n",
        " False False False  True False False False False  True False False False\n",
        "  True  True False False  True False False False  True  True  True False\n",
        " False False False  True False False False  True False False False False\n",
        "  True False False False False  True False False False False  True  True\n",
        " False False False False  True False False False False  True False False\n",
        "  True False False False  True False  True False False False  True False\n",
        "  True False  True  True False False  True  True False False False False\n",
        " False  True False False  True False False  True False False False  True\n",
        "  True False  True False False False False False False False False False\n",
        " False  True  True False False  True False  True False  True False False\n",
        "  True  True False False False False  True  True False False False  True\n",
        " False False  True  True  True  True  True  True False False False False\n",
        "  True False False False  True  True False False  True False  True  True\n",
        "  True False False  True False False False False False False False False\n",
        " False  True  True  True False  True False False False  True False  True\n",
        "  True False False  True False False  True  True False  True  True  True\n",
        "  True False False  True  True False  True  True False False  True  True\n",
        " False  True False  True  True  True  True False False False  True False\n",
        " False  True False False False  True False False False  True  True  True\n",
        " False False False False False False False False  True  True  True  True\n",
        " False False  True False False False  True  True  True  True False False\n",
        " False False  True  True  True False False False  True  True False  True\n",
        " False False False  True False  True False False False  True  True False\n",
        "  True False False  True False False  True False  True False False False\n",
        " False  True False False  True False False  True  True  True False  True\n",
        " False False False  True False False  True  True False False False  True\n",
        "  True False False  True  True  True False False  True False False  True\n",
        " False False  True False  True False False False False False False False\n",
        " False  True  True False False False False False False False False False\n",
        " False  True False False  True  True  True False False False False  True\n",
        " False False False  True False  True  True False False False False False\n",
        " False False False False  True False  True False False  True  True  True\n",
        "  True False  True False False False False False False  True False False\n",
        "  True False  True False  True False False  True False False  True False\n",
        " False False  True False False  True  True  True False  True False  True\n",
        "  True  True  True False False False  True False False False False False\n",
        " False False  True False  True False  True  True False False False False\n",
        "  True False False  True False False False  True False  True False False\n",
        "  True  True  True False  True  True False False False  True False False\n",
        " False False False  True False  True False False  True False False False\n",
        "  True False False False False False False False  True  True  True False\n",
        "  True False False  True False  True  True False False False False False\n",
        " False False False  True False False False False False False  True  True\n",
        " False False  True False False  True  True False  True False False False\n",
        " False  True False  True False  True  True False False  True False False\n",
        " False False False False False False False False False  True  True False\n",
        " False False False False False  True  True False  True False False False\n",
        " False False False False False  True False  True False False False False\n",
        " False  True False False  True False  True False False False  True False\n",
        "  True False  True False False False False False  True  True False False\n",
        "  True False False False False False  True  True False  True  True False\n",
        " False False False False  True False False False False False  True False\n",
        " False False False  True False False  True False False False  True False\n",
        " False False False  True False False False  True False  True False  True\n",
        " False False False False  True False  True False False  True False  True\n",
        "  True  True False False False False  True False False False False False\n",
        "  True False False False  True  True False  True False  True False False\n",
        " False False False  True False  True False False False  True False False\n",
        "  True False False False  True False False  True False False False False\n",
        " False  True  True False False False False  True False False False False\n",
        " False False  True False False False False False False  True False False\n",
        "  True  True  True  True  True False  True False False False  True  True\n",
        " False  True  True False False False False  True False False  True  True\n",
        " False False False  True  True False  True False False  True False  True\n",
        "  True False False]\n"
       ]
      }
     ],
     "prompt_number": 32
    },
    {
     "cell_type": "code",
     "collapsed": false,
     "input": [
      "women_on_board = data[women_only_stats, 1].astype(np.float) #this will convert it to 0 (false) and 1 (true)\n",
      "men_on_board = data[men_only_stats, 1].astype(np.float)"
     ],
     "language": "python",
     "metadata": {},
     "outputs": [],
     "prompt_number": 33
    },
    {
     "cell_type": "code",
     "collapsed": false,
     "input": [
      "proportion_women_survived = np.sum(women_on_board) / np.size(women_on_board)\n",
      "#the sum adds all the 0 and 1- results in giving us the total number of just the survivors that are female. \n",
      "#Remember we were already dealing with only the survivors\n",
      "#The size counts the 0 and 1 so it gives all observations\n",
      "\n",
      "proportion_men_survived = np.sum(men_on_board) / np.size(men_on_board)\n",
      "\n",
      "print 'Proportion of Women who survived is %s' % proportion_women_survived\n",
      "\n",
      "print 'Proportion of Men who survived is %s' % proportion_men_survived\n",
      "\n",
      "#women were way more likely to survive!"
     ],
     "language": "python",
     "metadata": {},
     "outputs": [
      {
       "output_type": "stream",
       "stream": "stdout",
       "text": [
        "Proportion of Women who survived is 0.742038216561\n",
        "Proportion of Men who survived is 0.188908145581\n"
       ]
      }
     ],
     "prompt_number": 35
    },
    {
     "cell_type": "markdown",
     "metadata": {},
     "source": [
      "###Reading the test data and writing the gender model"
     ]
    },
    {
     "cell_type": "code",
     "collapsed": false,
     "input": [
      "test_file = open('data/test.csv', 'rb')\n",
      "test_file_object = csv.reader(test_file)\n",
      "header = test_file_object.next()"
     ],
     "language": "python",
     "metadata": {},
     "outputs": [],
     "prompt_number": 43
    },
    {
     "cell_type": "code",
     "collapsed": false,
     "input": [
      "prediction_file = open(\"genderbasedmodel.csv\", \"wb\")  #this file doesnt exist it thats why we have to specifiy that we are writing\n",
      "prediction_file_object = csv.writer(prediction_file)"
     ],
     "language": "python",
     "metadata": {},
     "outputs": [],
     "prompt_number": 44
    },
    {
     "cell_type": "code",
     "collapsed": false,
     "input": [
      "prediction_file_object.writerow([\"PassengerId\", \"Survived\"])\n",
      "for row in test_file_object:     #for each row in test.csv\n",
      "    if row[3] == 'female':       #check if it is a female, if yes then\n",
      "        prediction_file_object.writerow([row[0],'1'])    #predict 1\n",
      "    else:                                               #or else if it's a male\n",
      "        prediction_file_object.writerow([row[0],'0'])   #predict 0\n"
     ],
     "language": "python",
     "metadata": {},
     "outputs": [],
     "prompt_number": 45
    },
    {
     "cell_type": "code",
     "collapsed": false,
     "input": [
      "test_file.close() #close the test_file\n",
      "prediction_file.close()  #close the prediction file"
     ],
     "language": "python",
     "metadata": {},
     "outputs": [],
     "prompt_number": 46
    },
    {
     "cell_type": "markdown",
     "metadata": {},
     "source": [
      "Now this is a file that can be submitted!"
     ]
    }
   ],
   "metadata": {}
  }
 ]
}