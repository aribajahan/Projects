{
 "metadata": {
  "name": ""
 },
 "nbformat": 3,
 "nbformat_minor": 0,
 "worksheets": [
  {
   "cells": [
    {
     "cell_type": "code",
     "collapsed": false,
     "input": [
      "### Escape\tWhat it does.\n",
      "\\\\\tBackslash ()\n",
      "\\'\tSingle-quote (')\n",
      "\\\"\tDouble-quote (\")\n",
      "\\a\tASCII bell (BEL)\n",
      "\\b\tASCII backspace (BS)\n",
      "\\f\tASCII formfeed (FF)\n",
      "\\n\tASCII linefeed (LF)\n",
      "\\N{name}\tCharacter named name in the Unicode database (Unicode only)\n",
      "\\r ASCII\tCarriage Return (CR)\n",
      "\\t ASCII\tHorizontal Tab (TAB)\n",
      "\\uxxxx\tCharacter with 16-bit hex value xxxx (Unicode only)\n",
      "\\Uxxxxxxxx\tCharacter with 32-bit hex value xxxxxxxx (Unicode only)\n",
      "\\v\tASCII vertical tab (VT)\n",
      "\\ooo\tCharacter with octal value ooo\n",
      "\\xhh\tCharacter with hex value hh"
     ],
     "language": "python",
     "metadata": {},
     "outputs": []
    }
   ],
   "metadata": {}
  }
 ]
}