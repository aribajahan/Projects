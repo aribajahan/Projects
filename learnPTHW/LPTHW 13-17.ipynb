{
 "metadata": {
  "name": ""
 },
 "nbformat": 3,
 "nbformat_minor": 0,
 "worksheets": [
  {
   "cells": [
    {
     "cell_type": "code",
     "collapsed": false,
     "input": [
      "#LPTHW Exercise 13: Parameters, Unpacking, Variables"
     ],
     "language": "python",
     "metadata": {},
     "outputs": [],
     "prompt_number": 1
    },
    {
     "cell_type": "code",
     "collapsed": false,
     "input": [
      "# this exercise only works on the command line \n",
      "#this should be in the file \n",
      "\n",
      "from sys import argv\n",
      "script, first, second, third = argv\n",
      "\n",
      "print \"The script is called:\", script\n",
      "print \"Your first variable is:\", first\n",
      "print \"Your second variable is:\", second\n",
      "print \"Your third variable is:\", third\n",
      "\n",
      "#adding rawinput too to show they both can happen\n",
      "height = raw_input (\"How tall are you in inches?\")\n",
      "print \"So you are %r tall\" % height\n",
      "\n",
      "#get in the directory the file is in then :\n",
      "#on commandline type 3 different words: \n",
      "# python Ex1.py apple orange grapes\n",
      "\n",
      "output will be:\n",
      "#The script is called: Ex1.py\n",
      "#Your first variable is: apple\n",
      "#Your second variable is: orange\n",
      "#Your third variable is: grapes\n",
      "\n",
      "#difference btwn argv & raw_input\n",
      "# argv for when you give the input on command line \n",
      "# raw_input if you need the users to give input as a prompt\n"
     ],
     "language": "python",
     "metadata": {},
     "outputs": [
      {
       "ename": "SyntaxError",
       "evalue": "invalid syntax (<ipython-input-7-5ce2a040f7d0>, line 9)",
       "output_type": "pyerr",
       "traceback": [
        "\u001b[0;36m  File \u001b[0;32m\"<ipython-input-7-5ce2a040f7d0>\"\u001b[0;36m, line \u001b[0;32m9\u001b[0m\n\u001b[0;31m    print apple orange grapes\u001b[0m\n\u001b[0m                     ^\u001b[0m\n\u001b[0;31mSyntaxError\u001b[0m\u001b[0;31m:\u001b[0m invalid syntax\n"
       ]
      }
     ],
     "prompt_number": 7
    },
    {
     "cell_type": "code",
     "collapsed": false,
     "input": [
      "#LPTHW Exercise 14: Prompting and Passing"
     ],
     "language": "python",
     "metadata": {},
     "outputs": [],
     "prompt_number": 10
    },
    {
     "cell_type": "code",
     "collapsed": false,
     "input": [
      "# this exercise only works on the command line \n",
      "#write this in a file:\n",
      "\n",
      "from sys import argv\n",
      "\n",
      "script, user_name = argv\n",
      "prompt = '>'\n",
      "\n",
      "print \"Hi %s, I'm the %s script.\" % (user_name, script)\n",
      "print \"I'd like ot ask you a few questions.\"\n",
      "print \"Do you like me %s?\" % user_name\n",
      "likes = raw_input(prompt)\n",
      "\n",
      "print \"Where do you live %s?\" % user_name\n",
      "lives = raw_input(prompt)\n",
      "\n",
      "print \"\"\"\n",
      "Alright, so you said %r about liking me.\n",
      "You live in %r.  Not sure where that is.\n",
      "And you have a %r computer.  Nice.\n",
      "\"\"\" % (likes, lives, computer)\n",
      "\n",
      "#get in the directory the file is in then :\n",
      "# on command line: python ex14.py ORANGE or any word\n",
      "\n"
     ],
     "language": "python",
     "metadata": {},
     "outputs": []
    },
    {
     "cell_type": "code",
     "collapsed": false,
     "input": [
      "########################################################"
     ],
     "language": "python",
     "metadata": {},
     "outputs": []
    },
    {
     "cell_type": "code",
     "collapsed": false,
     "input": [
      "#LPTHW Exercise 15: Reading Files"
     ],
     "language": "python",
     "metadata": {},
     "outputs": []
    },
    {
     "cell_type": "code",
     "collapsed": false,
     "input": [],
     "language": "python",
     "metadata": {},
     "outputs": []
    },
    {
     "cell_type": "code",
     "collapsed": false,
     "input": [],
     "language": "python",
     "metadata": {},
     "outputs": []
    },
    {
     "cell_type": "code",
     "collapsed": false,
     "input": [
      "#LPTHW Exercise 13: Parameters, Unpacking, Variables"
     ],
     "language": "python",
     "metadata": {},
     "outputs": [],
     "prompt_number": 1
    },
    {
     "cell_type": "code",
     "collapsed": false,
     "input": [
      "########################################################"
     ],
     "language": "python",
     "metadata": {},
     "outputs": []
    },
    {
     "cell_type": "code",
     "collapsed": false,
     "input": [
      "########################################################"
     ],
     "language": "python",
     "metadata": {},
     "outputs": []
    },
    {
     "cell_type": "code",
     "collapsed": false,
     "input": [
      "#LPTHW Exercise 13: Parameters, Unpacking, Variables"
     ],
     "language": "python",
     "metadata": {},
     "outputs": [],
     "prompt_number": 1
    },
    {
     "cell_type": "code",
     "collapsed": false,
     "input": [
      "########################################################"
     ],
     "language": "python",
     "metadata": {},
     "outputs": []
    },
    {
     "cell_type": "code",
     "collapsed": false,
     "input": [
      "#LPTHW Exercise 13: Parameters, Unpacking, Variables"
     ],
     "language": "python",
     "metadata": {},
     "outputs": [],
     "prompt_number": 1
    },
    {
     "cell_type": "code",
     "collapsed": false,
     "input": [
      "########################################################"
     ],
     "language": "python",
     "metadata": {},
     "outputs": []
    },
    {
     "cell_type": "code",
     "collapsed": false,
     "input": [
      "#LPTHW Exercise 13: Parameters, Unpacking, Variables"
     ],
     "language": "python",
     "metadata": {},
     "outputs": [],
     "prompt_number": 1
    }
   ],
   "metadata": {}
  }
 ]
}