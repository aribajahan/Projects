{
 "metadata": {
  "name": ""
 },
 "nbformat": 3,
 "nbformat_minor": 0,
 "worksheets": [
  {
   "cells": [
    {
     "cell_type": "code",
     "collapsed": false,
     "input": [
      "#LPTHW Exercise 3: Numbers and Math"
     ],
     "language": "python",
     "metadata": {},
     "outputs": [],
     "prompt_number": 1
    },
    {
     "cell_type": "code",
     "collapsed": false,
     "input": [
      "print \" I will now count my chickens:\"\n",
      "\n",
      "print \"Hens\", 25 + 30 / 6\n",
      "print \"Roosters\", 100 - 25 + 3 % 4\n",
      "\n",
      "print \"Now I will count the eggs:\"\n",
      "print 3 + 2 + 1 - 5 + 4 % 2 - 1 / 4 + 6\n",
      "\n",
      "print \"Is it true that 3+2<5-7?\"\n",
      "print 3 + 2 < 5-7\n",
      "\n",
      "print \"What is 3+2?\", 3 + 2\n",
      "print \"What is 5-7?\", 5 - 7\n",
      "\n",
      "print \"that's why it's a False.\"\n",
      "\n",
      "print \"How about some more\"\n",
      "\n",
      "print \"Is it greater?\", 5 >- 2\n",
      "print \"Is it greater or equal?\", 5 >= -2\n",
      "print \"Is it less or equal?\", 5 <= -2\n",
      "\n",
      "#Python follows PEMDAS which stands for:\n",
      "#Parentheses \n",
      "#Exponents \n",
      "#Multiplication \n",
      "#Division \n",
      "#Addition \n",
      "#Subtraction"
     ],
     "language": "python",
     "metadata": {},
     "outputs": [
      {
       "output_type": "stream",
       "stream": "stdout",
       "text": [
        " I will now count my chickens:\n",
        "Hens 30\n",
        "Roosters 78\n",
        "Now I will count the eggs:\n",
        "7\n",
        "Is it true that 3+2<5-7?\n",
        "False\n",
        "What is 3+2? 5\n",
        "What is 5-7? -2\n",
        "that's why it's a False.\n",
        "How about some more\n",
        "Is it greater? True\n",
        "Is it greater or equal? True\n",
        "Is it less or equal? False\n"
       ]
      }
     ],
     "prompt_number": 17
    },
    {
     "cell_type": "code",
     "collapsed": false,
     "input": [
      "print 7/4  #notice how this dropped the decimal\n",
      "print 7.0/4.0 #here you  get the entire value"
     ],
     "language": "python",
     "metadata": {},
     "outputs": [
      {
       "output_type": "stream",
       "stream": "stdout",
       "text": [
        "1\n",
        "1.75\n"
       ]
      }
     ],
     "prompt_number": 7
    },
    {
     "cell_type": "code",
     "collapsed": false,
     "input": [
      "########################################################"
     ],
     "language": "python",
     "metadata": {},
     "outputs": []
    },
    {
     "cell_type": "code",
     "collapsed": false,
     "input": [
      "#LPTHW Exercise 4: Variables and Names"
     ],
     "language": "python",
     "metadata": {},
     "outputs": [],
     "prompt_number": 8
    },
    {
     "cell_type": "code",
     "collapsed": false,
     "input": [
      "cars = 100\n",
      "space_in_a_car = 4.0 \n",
      "drivers = 30 \n",
      "passengers = 90\n",
      "cars_not_driven = cars - drivers\n",
      "cars_driven = drivers\n",
      "carpool_capacity = cars_driven * space_in_a_car\n",
      "average_passenger_per_car = passengers/cars_driven\n",
      "\n",
      "#4.0 is a floating number\n",
      "#The single = assigns a variable a value. \n",
      "#The double == tests if the two things on both sides of it are of the same value."
     ],
     "language": "python",
     "metadata": {},
     "outputs": [],
     "prompt_number": 13
    },
    {
     "cell_type": "code",
     "collapsed": false,
     "input": [
      "print \"There are\", cars, \"cars available.\" \n",
      "print \"There are only\", drivers, \"Drivers available.\"\n",
      "print \"There will be\", cars_not_driven, \"empty cars today.\"\n",
      "print \"We can transport\", carpool_capacity, \"people today.\"\n",
      "print \"We have\", passengers, \"to carpool today.\"\n",
      "print \"We need to put about\", average_passenger_per_car, \"in each car.\""
     ],
     "language": "python",
     "metadata": {},
     "outputs": [
      {
       "output_type": "stream",
       "stream": "stdout",
       "text": [
        "There are 100 cars available.\n",
        "There are only 30 Drivers available.\n",
        "There will be 70 empty cars today.\n",
        "We can transport 120.0 people today.\n",
        "We have 90 to carpool today.\n",
        "We need to put about 3 in each car.\n"
       ]
      }
     ],
     "prompt_number": 18
    },
    {
     "cell_type": "code",
     "collapsed": false,
     "input": [
      "########################################################"
     ],
     "language": "python",
     "metadata": {},
     "outputs": []
    },
    {
     "cell_type": "code",
     "collapsed": false,
     "input": [
      "#LPTHW Exercise 5: More Variables and Printing"
     ],
     "language": "python",
     "metadata": {},
     "outputs": [],
     "prompt_number": 19
    },
    {
     "cell_type": "code",
     "collapsed": false,
     "input": [
      "my_name = 'Ariba Jahan'\n",
      "my_age = 28 \n",
      "my_height = 59 #inches\n",
      "my_weight = 110 #lbs\n",
      "my_eyes = 'Black'\n",
      "my_teeth = 'White'\n",
      "my_hair = 'Brown'"
     ],
     "language": "python",
     "metadata": {},
     "outputs": [],
     "prompt_number": 20
    },
    {
     "cell_type": "code",
     "collapsed": false,
     "input": [
      "print \"Let's talk about %s.\" % my_name\n",
      "print \"She's %s inches tall.\" % my_height\n",
      "print \"She's %s pouns heavy.\" % my_weight\n",
      "print \"Actually that's not too heavy.\"\n",
      "print \"She's got %s hair and %s eyes.\" % (my_eyes, my_hair)\n",
      "print \"Her teeth are usually %s depending on the coffee.\" % my_teeth\n",
      "\n",
      "print \"If I add %d, %d, and %d I get %d.\" % (my_age, my_height, my_weight, my_age + my_height + my_weight)\n",
      "\n",
      "#Formatters\n",
      "#%d will format a number for display.\n",
      "#%s will insert the presentation string representation of the object\n",
      "#%r will insert the canonical string representation of the object"
     ],
     "language": "python",
     "metadata": {},
     "outputs": [
      {
       "output_type": "stream",
       "stream": "stdout",
       "text": [
        "Let's talk about Ariba Jahan.\n",
        "She's 59 inches tall.\n",
        "She's 110 pouns heavy.\n",
        "Actually that's not too heavy.\n",
        "She's got Black hair and Brown eyes.\n",
        "Her teeth are usually White depending on the coffee.\n",
        "If I add 28, 59, and 110 I get 197.\n"
       ]
      }
     ],
     "prompt_number": 25
    },
    {
     "cell_type": "code",
     "collapsed": false,
     "input": [
      "########################################################"
     ],
     "language": "python",
     "metadata": {},
     "outputs": []
    },
    {
     "cell_type": "code",
     "collapsed": false,
     "input": [
      "#LPTHW Exercise 6: Strings and Text"
     ],
     "language": "python",
     "metadata": {},
     "outputs": [],
     "prompt_number": 26
    },
    {
     "cell_type": "code",
     "collapsed": false,
     "input": [
      "x = \"There are %d types of people.\" %10\n",
      "binary = \"binary\"\n",
      "do_not = \"don't\"\n",
      "y = \"Those who knows %s and those who %s.\" % (binary, do_not)\n",
      "\n",
      "print x\n",
      "print y"
     ],
     "language": "python",
     "metadata": {},
     "outputs": [
      {
       "output_type": "stream",
       "stream": "stdout",
       "text": [
        "There are 10 types of people.\n",
        "Those who knows binary and those who don't.\n"
       ]
      }
     ],
     "prompt_number": 28
    },
    {
     "cell_type": "code",
     "collapsed": false,
     "input": [
      "print \"I said: %r.\" %x \n",
      "#here, the %r formatter puts '' around the definition.\n",
      "\n",
      "print \"I also said: '%s'.\" %y\n",
      "#here, we are putting the '' around the formatter to print it like that.\n",
      "\n",
      "#%r gives the raw version\n",
      "#%s gives the string\n"
     ],
     "language": "python",
     "metadata": {},
     "outputs": [
      {
       "output_type": "stream",
       "stream": "stdout",
       "text": [
        "I said: 'There are 10 types of people.'.\n",
        "I also said: 'Those who knows binary and those who don't.'.\n"
       ]
      }
     ],
     "prompt_number": 31
    },
    {
     "cell_type": "code",
     "collapsed": false,
     "input": [
      "hilarious = False\n",
      "joke_evaluation = \"Isn't that joke so funny?! %r\"\n",
      "\n",
      "print joke_evaluation % hilarious\n",
      "#Even in print, we can define the formatter"
     ],
     "language": "python",
     "metadata": {},
     "outputs": [
      {
       "output_type": "stream",
       "stream": "stdout",
       "text": [
        "Isn't that joke so funny?! False\n"
       ]
      }
     ],
     "prompt_number": 32
    },
    {
     "cell_type": "code",
     "collapsed": false,
     "input": [
      "w = \"This is the left side of...\"\n",
      "e = \" a string with a right side.\"\n",
      "\n",
      "print w + e"
     ],
     "language": "python",
     "metadata": {},
     "outputs": [
      {
       "output_type": "stream",
       "stream": "stdout",
       "text": [
        "This is the left side of... a string with a right side.\n"
       ]
      }
     ],
     "prompt_number": 34
    },
    {
     "cell_type": "code",
     "collapsed": false,
     "input": [
      "########################################################"
     ],
     "language": "python",
     "metadata": {},
     "outputs": [],
     "prompt_number": 35
    },
    {
     "cell_type": "code",
     "collapsed": false,
     "input": [
      "#LPTHW Exercise 7: More Printing"
     ],
     "language": "python",
     "metadata": {},
     "outputs": [],
     "prompt_number": 36
    },
    {
     "cell_type": "code",
     "collapsed": false,
     "input": [
      "print \"Mary had a little lamb.\"\n",
      "print \"Its fleece was white as %s.\" % 'snow'\n",
      "print \"And everywhere that Mary went.\"\n",
      "print \".\" * 10 #this made it give 10 periods"
     ],
     "language": "python",
     "metadata": {},
     "outputs": [
      {
       "output_type": "stream",
       "stream": "stdout",
       "text": [
        "Mary had a little lamb.\n",
        "Its fleece was white as snow.\n",
        "And everywhere that Mary went.\n",
        "..........\n"
       ]
      }
     ],
     "prompt_number": 38
    },
    {
     "cell_type": "code",
     "collapsed": false,
     "input": [
      "end1 = 'C'\n",
      "end2 = 'h'\n",
      "end3 = 'e'\n",
      "end4 = 'e'\n",
      "end5 = 's'\n",
      "end6 = 'e'\n",
      "end7 = 'B'\n",
      "end8 = 'u'\n",
      "end9 = 'r'\n",
      "end10 = 'g'\n",
      "end11 = 'e'\n",
      "end12 = 'r'\n",
      "\n",
      "print end1 + end2 + end3 + end4 + end5 + end6,\n",
      "end7 + end8 + end9 + end10 + end11 + end12\n",
      "\n",
      "#the comma between them allowed to create a space btwn the 2 words\n",
      "# and it helps to continue it to the next line"
     ],
     "language": "python",
     "metadata": {},
     "outputs": [
      {
       "output_type": "stream",
       "stream": "stdout",
       "text": [
        "Cheese Burger\n"
       ]
      }
     ],
     "prompt_number": 39
    }
   ],
   "metadata": {}
  }
 ]
}