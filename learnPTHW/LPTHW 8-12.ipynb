{
 "metadata": {
  "name": ""
 },
 "nbformat": 3,
 "nbformat_minor": 0,
 "worksheets": [
  {
   "cells": [
    {
     "cell_type": "code",
     "collapsed": false,
     "input": [
      "#LPTHW Exercise 8: Printing and Printing"
     ],
     "language": "python",
     "metadata": {},
     "outputs": [],
     "prompt_number": 1
    },
    {
     "cell_type": "code",
     "collapsed": false,
     "input": [
      "formatter = \"%r %r %r %r\"\n",
      "\n",
      "print formatter % (1, 2, 3, 4)\n",
      "print formatter % (\"one\", \"two\", \"three\", \"four\")\n",
      "print formatter % (True, False, True, False)\n",
      "print formatter % (formatter, formatter, formatter, formatter)\n",
      "print formatter % (\n",
      "                \"I had this thing\",\n",
      "                \"That you could type up right\",\n",
      "                \"But it didn't sing.\",\n",
      "                \"So I said goodnight.\"\n",
      "                )"
     ],
     "language": "python",
     "metadata": {},
     "outputs": [
      {
       "output_type": "stream",
       "stream": "stdout",
       "text": [
        "1 2 3 4\n",
        "'one' 'two' 'three' 'four'\n",
        "True False True False\n",
        "'%r %r %r %r' '%r %r %r %r' '%r %r %r %r' '%r %r %r %r'\n",
        "'I had this thing' 'That you could type up right' \"But it didn't sing.\" 'So I said goodnight.'\n"
       ]
      }
     ],
     "prompt_number": 11
    },
    {
     "cell_type": "code",
     "collapsed": false,
     "input": [
      "########################################################"
     ],
     "language": "python",
     "metadata": {},
     "outputs": []
    },
    {
     "cell_type": "code",
     "collapsed": false,
     "input": [
      "#LPTHW Exercise 9: Printing, Printing and Printing"
     ],
     "language": "python",
     "metadata": {},
     "outputs": [],
     "prompt_number": 12
    },
    {
     "cell_type": "code",
     "collapsed": false,
     "input": [
      "days = \"Mon Tue Wed Thu Fri Sat Sun\"\n",
      "months = \"\\nJan\\nFeb\\nMar\\nApr\\nMay\\nJun\\nJul\\nAug\"\n",
      "\n",
      "#the \\n before the variables make it indent to a new line\n",
      "\n",
      "\n",
      "print \"Here are the days: \" , days\n",
      "print \"Here are the months:\", months\n",
      "\n",
      "print \"\"\"\n",
      "There's something going on here. \n",
      "With the three double-quotes.\n",
      "We'll be able to type as as we like. \n",
      "Even 4 lines if we want, or 5 or 6. \n",
      "\"\"\"\n",
      "#\"\"\" allows to string up a paragraph"
     ],
     "language": "python",
     "metadata": {},
     "outputs": [
      {
       "output_type": "stream",
       "stream": "stdout",
       "text": [
        "Here are the days:  Mon Tue Wed Thu Fri Sat Sun\n",
        "Here are the months: \n",
        "Jan\n",
        "Feb\n",
        "Mar\n",
        "Apr\n",
        "May\n",
        "Jun\n",
        "Jul\n",
        "Aug\n",
        "\n",
        "There's something going on here. \n",
        "With the three double-quotes.\n",
        "We'll be able to type as as we like. \n",
        "Even 4 lines if we want, or 5 or 6. \n",
        "\n"
       ]
      }
     ],
     "prompt_number": 18
    },
    {
     "cell_type": "code",
     "collapsed": false,
     "input": [
      "########################################################"
     ],
     "language": "python",
     "metadata": {},
     "outputs": []
    },
    {
     "cell_type": "code",
     "collapsed": false,
     "input": [
      "#LPTHW Exercise 10: What was that?"
     ],
     "language": "python",
     "metadata": {},
     "outputs": [],
     "prompt_number": 19
    },
    {
     "cell_type": "code",
     "collapsed": false,
     "input": [
      "tabby_cat = \"\\tI'm tabbed in.\"\n",
      "persian_cat = \"I'm split\\non a line.\" \n",
      "backslash_cat = \"I'm \\\\ a \\\\ cat.\"\n",
      "\n",
      "fat_cat = \"\"\"\n",
      "I'll do a list:\n",
      "\\t* Cat food\n",
      "\\t* Fishies\n",
      "\\t* Catnip \\n\\t* Grass\n",
      "\"\"\"\n",
      "\n",
      "print tabby_cat\n",
      "print persian_cat\n",
      "print backslash_cat\n",
      "print fat_cat\n",
      "\n",
      "# \\t creates a tab\n",
      "# \\t* tab + asterisk like bullets\n",
      "# \\n new line"
     ],
     "language": "python",
     "metadata": {},
     "outputs": [
      {
       "output_type": "stream",
       "stream": "stdout",
       "text": [
        "\tI'm tabbed in.\n",
        "I'm split\n",
        "on a line.\n",
        "I'm \\ a \\ cat.\n",
        "\n",
        "I'll do a list:\n",
        "\t* Cat food\n",
        "\t* Fishies\n",
        "\t* Catnip \n",
        "\t* Grass\n",
        "\n"
       ]
      }
     ],
     "prompt_number": 24
    },
    {
     "cell_type": "code",
     "collapsed": false,
     "input": [
      "print \"\\tLet's see \\twhere \\nthis \\n*goes\""
     ],
     "language": "python",
     "metadata": {},
     "outputs": [
      {
       "output_type": "stream",
       "stream": "stdout",
       "text": [
        "\tLet's see \twhere \n",
        "this \n",
        "*goes\n"
       ]
      }
     ],
     "prompt_number": 1
    },
    {
     "cell_type": "code",
     "collapsed": false,
     "input": [
      "fitfit = \"Let's replace %r with %s\" \n",
      "print fitfit % ('wtf', 'huh')"
     ],
     "language": "python",
     "metadata": {},
     "outputs": [
      {
       "output_type": "stream",
       "stream": "stdout",
       "text": [
        "Let's replace 'wtf' with huh\n"
       ]
      }
     ],
     "prompt_number": 4
    },
    {
     "cell_type": "code",
     "collapsed": false,
     "input": [
      "########################################################"
     ],
     "language": "python",
     "metadata": {},
     "outputs": []
    },
    {
     "cell_type": "code",
     "collapsed": false,
     "input": [
      "#LPTHW Exercise 11: Asking Questions"
     ],
     "language": "python",
     "metadata": {},
     "outputs": [],
     "prompt_number": 5
    },
    {
     "cell_type": "code",
     "collapsed": false,
     "input": [
      "print \"How old are you?\",\n",
      "age = raw_input()\n",
      "print \"How tall are you?\",\n",
      "height = raw_input()\n",
      "print \"How much do you weigh?\",\n",
      "weight = raw_input()\n",
      "\n",
      "print \"So, you're %r years old, %r tall and %r heacy.\" % (age, height, weight)\n",
      "\n",
      "#the comma (,) at the end allows the answers to be in the same line"
     ],
     "language": "python",
     "metadata": {},
     "outputs": [
      {
       "output_type": "stream",
       "stream": "stdout",
       "text": [
        "How old are you?"
       ]
      },
      {
       "name": "stdout",
       "output_type": "stream",
       "stream": "stdout",
       "text": [
        "28\n"
       ]
      },
      {
       "output_type": "stream",
       "stream": "stdout",
       "text": [
        " How tall are you?"
       ]
      },
      {
       "name": "stdout",
       "output_type": "stream",
       "stream": "stdout",
       "text": [
        "58\n"
       ]
      },
      {
       "output_type": "stream",
       "stream": "stdout",
       "text": [
        " How much do you weigh?"
       ]
      },
      {
       "name": "stdout",
       "output_type": "stream",
       "stream": "stdout",
       "text": [
        "110\n"
       ]
      },
      {
       "output_type": "stream",
       "stream": "stdout",
       "text": [
        " So, you're '28' old, '58' tall and '110' heacy.\n"
       ]
      }
     ],
     "prompt_number": 9
    },
    {
     "cell_type": "code",
     "collapsed": false,
     "input": [
      "age = raw_input(\"How old are you?\")\n",
      "height = raw_input (\"How tall are you in inches?\")\n",
      "weight = raw_input (\"How much do you weigh?\")\n",
      "\n",
      "print \"So, you're %s years old, %s tall and %s heavy.\" % (age, height, weight)\n",
      "\n",
      "# this way is faster. no need for a print code\n",
      "# notice because its %s, no quotes are around the number."
     ],
     "language": "python",
     "metadata": {},
     "outputs": [
      {
       "name": "stdout",
       "output_type": "stream",
       "stream": "stdout",
       "text": [
        "How old are you?28\n"
       ]
      },
      {
       "name": "stdout",
       "output_type": "stream",
       "stream": "stdout",
       "text": [
        "How tall are you in inches?58\n"
       ]
      },
      {
       "name": "stdout",
       "output_type": "stream",
       "stream": "stdout",
       "text": [
        "How much do you weigh?110\n"
       ]
      },
      {
       "output_type": "stream",
       "stream": "stdout",
       "text": [
        "So, you're 28 years old, 58 tall and 110 heavy.\n"
       ]
      }
     ],
     "prompt_number": 2
    },
    {
     "cell_type": "code",
     "collapsed": false,
     "input": [],
     "language": "python",
     "metadata": {},
     "outputs": []
    }
   ],
   "metadata": {}
  }
 ]
}